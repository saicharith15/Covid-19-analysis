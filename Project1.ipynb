{
 "cells": [
  {
   "cell_type": "markdown",
   "metadata": {
    "colab_type": "text",
    "id": "p6cD7Y_Hi_RF"
   },
   "source": [
    "# Applied Deep Learning Project 1- Data Analysis"
   ]
  },
  {
   "cell_type": "markdown",
   "metadata": {
    "colab_type": "text",
    "id": "yUIbjrkpjIYz"
   },
   "source": [
    "In this project, we select a real world dataset and perform statistical analysis on it. For this I selected to Covid-19 dataset available at https://www.kaggle.com/imdevskp/corona-virus-report . In the third part, I will investigate the correlation between the number of confirmed cases in a state and the unemployment rate in that state in the month of may"
   ]
  },
  {
   "cell_type": "code",
   "execution_count": null,
   "metadata": {
    "colab": {},
    "colab_type": "code",
    "id": "yFwBwZttho1d"
   },
   "outputs": [],
   "source": [
    "#Importing the required Libraries\n",
    "import pandas as pd\n",
    "import numpy as np\n",
    "import matplotlib.pyplot as plt\n",
    "import seaborn as sns\n",
    "from sklearn.model_selection import train_test_split\n",
    "from sklearn.preprocessing import StandardScaler\n",
    "from sklearn.linear_model import LinearRegression\n",
    "from sklearn.tree import DecisionTreeRegressor\n",
    "from sklearn.ensemble import RandomForestRegressor\n",
    "from sklearn.preprocessing import PolynomialFeatures\n",
    "from sklearn.neural_network import MLPRegressor\n"
   ]
  },
  {
   "cell_type": "code",
   "execution_count": null,
   "metadata": {
    "colab": {},
    "colab_type": "code",
    "id": "qyrTIRMXho1p"
   },
   "outputs": [],
   "source": [
    "#Importing the dataset\n",
    "data = pd.read_csv('usa_county_wise.csv')"
   ]
  },
  {
   "cell_type": "code",
   "execution_count": null,
   "metadata": {
    "colab": {},
    "colab_type": "code",
    "id": "yTSELpXLho1x",
    "outputId": "4fd8d36c-c6db-4302-ac45-f030424e7c68"
   },
   "outputs": [
    {
     "data": {
      "text/html": [
       "<div>\n",
       "<style scoped>\n",
       "    .dataframe tbody tr th:only-of-type {\n",
       "        vertical-align: middle;\n",
       "    }\n",
       "\n",
       "    .dataframe tbody tr th {\n",
       "        vertical-align: top;\n",
       "    }\n",
       "\n",
       "    .dataframe thead th {\n",
       "        text-align: right;\n",
       "    }\n",
       "</style>\n",
       "<table border=\"1\" class=\"dataframe\">\n",
       "  <thead>\n",
       "    <tr style=\"text-align: right;\">\n",
       "      <th></th>\n",
       "      <th>UID</th>\n",
       "      <th>iso2</th>\n",
       "      <th>iso3</th>\n",
       "      <th>code3</th>\n",
       "      <th>FIPS</th>\n",
       "      <th>Admin2</th>\n",
       "      <th>Province_State</th>\n",
       "      <th>Country_Region</th>\n",
       "      <th>Lat</th>\n",
       "      <th>Long_</th>\n",
       "      <th>Combined_Key</th>\n",
       "      <th>Date</th>\n",
       "      <th>Confirmed</th>\n",
       "      <th>Deaths</th>\n",
       "    </tr>\n",
       "  </thead>\n",
       "  <tbody>\n",
       "    <tr>\n",
       "      <td>0</td>\n",
       "      <td>16</td>\n",
       "      <td>AS</td>\n",
       "      <td>ASM</td>\n",
       "      <td>16</td>\n",
       "      <td>60.0</td>\n",
       "      <td>NaN</td>\n",
       "      <td>American Samoa</td>\n",
       "      <td>US</td>\n",
       "      <td>-14.271000</td>\n",
       "      <td>-170.132000</td>\n",
       "      <td>American Samoa, US</td>\n",
       "      <td>1/22/20</td>\n",
       "      <td>0</td>\n",
       "      <td>0</td>\n",
       "    </tr>\n",
       "    <tr>\n",
       "      <td>1</td>\n",
       "      <td>316</td>\n",
       "      <td>GU</td>\n",
       "      <td>GUM</td>\n",
       "      <td>316</td>\n",
       "      <td>66.0</td>\n",
       "      <td>NaN</td>\n",
       "      <td>Guam</td>\n",
       "      <td>US</td>\n",
       "      <td>13.444300</td>\n",
       "      <td>144.793700</td>\n",
       "      <td>Guam, US</td>\n",
       "      <td>1/22/20</td>\n",
       "      <td>0</td>\n",
       "      <td>0</td>\n",
       "    </tr>\n",
       "    <tr>\n",
       "      <td>2</td>\n",
       "      <td>580</td>\n",
       "      <td>MP</td>\n",
       "      <td>MNP</td>\n",
       "      <td>580</td>\n",
       "      <td>69.0</td>\n",
       "      <td>NaN</td>\n",
       "      <td>Northern Mariana Islands</td>\n",
       "      <td>US</td>\n",
       "      <td>15.097900</td>\n",
       "      <td>145.673900</td>\n",
       "      <td>Northern Mariana Islands, US</td>\n",
       "      <td>1/22/20</td>\n",
       "      <td>0</td>\n",
       "      <td>0</td>\n",
       "    </tr>\n",
       "    <tr>\n",
       "      <td>3</td>\n",
       "      <td>630</td>\n",
       "      <td>PR</td>\n",
       "      <td>PRI</td>\n",
       "      <td>630</td>\n",
       "      <td>72.0</td>\n",
       "      <td>NaN</td>\n",
       "      <td>Puerto Rico</td>\n",
       "      <td>US</td>\n",
       "      <td>18.220800</td>\n",
       "      <td>-66.590100</td>\n",
       "      <td>Puerto Rico, US</td>\n",
       "      <td>1/22/20</td>\n",
       "      <td>0</td>\n",
       "      <td>0</td>\n",
       "    </tr>\n",
       "    <tr>\n",
       "      <td>4</td>\n",
       "      <td>850</td>\n",
       "      <td>VI</td>\n",
       "      <td>VIR</td>\n",
       "      <td>850</td>\n",
       "      <td>78.0</td>\n",
       "      <td>NaN</td>\n",
       "      <td>Virgin Islands</td>\n",
       "      <td>US</td>\n",
       "      <td>18.335800</td>\n",
       "      <td>-64.896300</td>\n",
       "      <td>Virgin Islands, US</td>\n",
       "      <td>1/22/20</td>\n",
       "      <td>0</td>\n",
       "      <td>0</td>\n",
       "    </tr>\n",
       "    <tr>\n",
       "      <td>5</td>\n",
       "      <td>84001001</td>\n",
       "      <td>US</td>\n",
       "      <td>USA</td>\n",
       "      <td>840</td>\n",
       "      <td>1001.0</td>\n",
       "      <td>Autauga</td>\n",
       "      <td>Alabama</td>\n",
       "      <td>US</td>\n",
       "      <td>32.539527</td>\n",
       "      <td>-86.644082</td>\n",
       "      <td>Autauga, Alabama, US</td>\n",
       "      <td>1/22/20</td>\n",
       "      <td>0</td>\n",
       "      <td>0</td>\n",
       "    </tr>\n",
       "    <tr>\n",
       "      <td>6</td>\n",
       "      <td>84001003</td>\n",
       "      <td>US</td>\n",
       "      <td>USA</td>\n",
       "      <td>840</td>\n",
       "      <td>1003.0</td>\n",
       "      <td>Baldwin</td>\n",
       "      <td>Alabama</td>\n",
       "      <td>US</td>\n",
       "      <td>30.727750</td>\n",
       "      <td>-87.722071</td>\n",
       "      <td>Baldwin, Alabama, US</td>\n",
       "      <td>1/22/20</td>\n",
       "      <td>0</td>\n",
       "      <td>0</td>\n",
       "    </tr>\n",
       "    <tr>\n",
       "      <td>7</td>\n",
       "      <td>84001005</td>\n",
       "      <td>US</td>\n",
       "      <td>USA</td>\n",
       "      <td>840</td>\n",
       "      <td>1005.0</td>\n",
       "      <td>Barbour</td>\n",
       "      <td>Alabama</td>\n",
       "      <td>US</td>\n",
       "      <td>31.868263</td>\n",
       "      <td>-85.387129</td>\n",
       "      <td>Barbour, Alabama, US</td>\n",
       "      <td>1/22/20</td>\n",
       "      <td>0</td>\n",
       "      <td>0</td>\n",
       "    </tr>\n",
       "    <tr>\n",
       "      <td>8</td>\n",
       "      <td>84001007</td>\n",
       "      <td>US</td>\n",
       "      <td>USA</td>\n",
       "      <td>840</td>\n",
       "      <td>1007.0</td>\n",
       "      <td>Bibb</td>\n",
       "      <td>Alabama</td>\n",
       "      <td>US</td>\n",
       "      <td>32.996421</td>\n",
       "      <td>-87.125115</td>\n",
       "      <td>Bibb, Alabama, US</td>\n",
       "      <td>1/22/20</td>\n",
       "      <td>0</td>\n",
       "      <td>0</td>\n",
       "    </tr>\n",
       "    <tr>\n",
       "      <td>9</td>\n",
       "      <td>84001009</td>\n",
       "      <td>US</td>\n",
       "      <td>USA</td>\n",
       "      <td>840</td>\n",
       "      <td>1009.0</td>\n",
       "      <td>Blount</td>\n",
       "      <td>Alabama</td>\n",
       "      <td>US</td>\n",
       "      <td>33.982109</td>\n",
       "      <td>-86.567906</td>\n",
       "      <td>Blount, Alabama, US</td>\n",
       "      <td>1/22/20</td>\n",
       "      <td>0</td>\n",
       "      <td>0</td>\n",
       "    </tr>\n",
       "  </tbody>\n",
       "</table>\n",
       "</div>"
      ],
      "text/plain": [
       "        UID iso2 iso3  code3    FIPS   Admin2            Province_State  \\\n",
       "0        16   AS  ASM     16    60.0      NaN            American Samoa   \n",
       "1       316   GU  GUM    316    66.0      NaN                      Guam   \n",
       "2       580   MP  MNP    580    69.0      NaN  Northern Mariana Islands   \n",
       "3       630   PR  PRI    630    72.0      NaN               Puerto Rico   \n",
       "4       850   VI  VIR    850    78.0      NaN            Virgin Islands   \n",
       "5  84001001   US  USA    840  1001.0  Autauga                   Alabama   \n",
       "6  84001003   US  USA    840  1003.0  Baldwin                   Alabama   \n",
       "7  84001005   US  USA    840  1005.0  Barbour                   Alabama   \n",
       "8  84001007   US  USA    840  1007.0     Bibb                   Alabama   \n",
       "9  84001009   US  USA    840  1009.0   Blount                   Alabama   \n",
       "\n",
       "  Country_Region        Lat       Long_                  Combined_Key  \\\n",
       "0             US -14.271000 -170.132000            American Samoa, US   \n",
       "1             US  13.444300  144.793700                      Guam, US   \n",
       "2             US  15.097900  145.673900  Northern Mariana Islands, US   \n",
       "3             US  18.220800  -66.590100               Puerto Rico, US   \n",
       "4             US  18.335800  -64.896300            Virgin Islands, US   \n",
       "5             US  32.539527  -86.644082          Autauga, Alabama, US   \n",
       "6             US  30.727750  -87.722071          Baldwin, Alabama, US   \n",
       "7             US  31.868263  -85.387129          Barbour, Alabama, US   \n",
       "8             US  32.996421  -87.125115             Bibb, Alabama, US   \n",
       "9             US  33.982109  -86.567906           Blount, Alabama, US   \n",
       "\n",
       "      Date  Confirmed  Deaths  \n",
       "0  1/22/20          0       0  \n",
       "1  1/22/20          0       0  \n",
       "2  1/22/20          0       0  \n",
       "3  1/22/20          0       0  \n",
       "4  1/22/20          0       0  \n",
       "5  1/22/20          0       0  \n",
       "6  1/22/20          0       0  \n",
       "7  1/22/20          0       0  \n",
       "8  1/22/20          0       0  \n",
       "9  1/22/20          0       0  "
      ]
     },
     "execution_count": 3,
     "metadata": {
      "tags": []
     },
     "output_type": "execute_result"
    }
   ],
   "source": [
    "#Few useful displays of the data\n",
    "data.head(10)"
   ]
  },
  {
   "cell_type": "code",
   "execution_count": null,
   "metadata": {
    "colab": {},
    "colab_type": "code",
    "id": "ODqgfX0Fho16",
    "outputId": "7a69aa82-1568-44ca-9159-a96529191258"
   },
   "outputs": [
    {
     "data": {
      "text/html": [
       "<div>\n",
       "<style scoped>\n",
       "    .dataframe tbody tr th:only-of-type {\n",
       "        vertical-align: middle;\n",
       "    }\n",
       "\n",
       "    .dataframe tbody tr th {\n",
       "        vertical-align: top;\n",
       "    }\n",
       "\n",
       "    .dataframe thead th {\n",
       "        text-align: right;\n",
       "    }\n",
       "</style>\n",
       "<table border=\"1\" class=\"dataframe\">\n",
       "  <thead>\n",
       "    <tr style=\"text-align: right;\">\n",
       "      <th></th>\n",
       "      <th>UID</th>\n",
       "      <th>iso2</th>\n",
       "      <th>iso3</th>\n",
       "      <th>code3</th>\n",
       "      <th>FIPS</th>\n",
       "      <th>Admin2</th>\n",
       "      <th>Province_State</th>\n",
       "      <th>Country_Region</th>\n",
       "      <th>Lat</th>\n",
       "      <th>Long_</th>\n",
       "      <th>Combined_Key</th>\n",
       "      <th>Date</th>\n",
       "      <th>Confirmed</th>\n",
       "      <th>Deaths</th>\n",
       "    </tr>\n",
       "  </thead>\n",
       "  <tbody>\n",
       "    <tr>\n",
       "      <td>557621</td>\n",
       "      <td>84070002</td>\n",
       "      <td>US</td>\n",
       "      <td>USA</td>\n",
       "      <td>840</td>\n",
       "      <td>NaN</td>\n",
       "      <td>Dukes and Nantucket</td>\n",
       "      <td>Massachusetts</td>\n",
       "      <td>US</td>\n",
       "      <td>41.406747</td>\n",
       "      <td>-70.687635</td>\n",
       "      <td>Dukes and Nantucket,Massachusetts,US</td>\n",
       "      <td>7/10/20</td>\n",
       "      <td>78</td>\n",
       "      <td>20</td>\n",
       "    </tr>\n",
       "    <tr>\n",
       "      <td>557622</td>\n",
       "      <td>84070003</td>\n",
       "      <td>US</td>\n",
       "      <td>USA</td>\n",
       "      <td>840</td>\n",
       "      <td>NaN</td>\n",
       "      <td>Kansas City</td>\n",
       "      <td>Missouri</td>\n",
       "      <td>US</td>\n",
       "      <td>39.099700</td>\n",
       "      <td>-94.578600</td>\n",
       "      <td>Kansas City,Missouri,US</td>\n",
       "      <td>7/10/20</td>\n",
       "      <td>3040</td>\n",
       "      <td>3</td>\n",
       "    </tr>\n",
       "    <tr>\n",
       "      <td>557623</td>\n",
       "      <td>84070004</td>\n",
       "      <td>US</td>\n",
       "      <td>USA</td>\n",
       "      <td>840</td>\n",
       "      <td>NaN</td>\n",
       "      <td>Michigan Department of Corrections (MDOC)</td>\n",
       "      <td>Michigan</td>\n",
       "      <td>US</td>\n",
       "      <td>0.000000</td>\n",
       "      <td>0.000000</td>\n",
       "      <td>Michigan Department of Corrections (MDOC), Mic...</td>\n",
       "      <td>7/10/20</td>\n",
       "      <td>4111</td>\n",
       "      <td>68</td>\n",
       "    </tr>\n",
       "    <tr>\n",
       "      <td>557624</td>\n",
       "      <td>84070005</td>\n",
       "      <td>US</td>\n",
       "      <td>USA</td>\n",
       "      <td>840</td>\n",
       "      <td>NaN</td>\n",
       "      <td>Federal Correctional Institution (FCI)</td>\n",
       "      <td>Michigan</td>\n",
       "      <td>US</td>\n",
       "      <td>0.000000</td>\n",
       "      <td>0.000000</td>\n",
       "      <td>Federal Correctional Institution (FCI), Michig...</td>\n",
       "      <td>7/10/20</td>\n",
       "      <td>186</td>\n",
       "      <td>5</td>\n",
       "    </tr>\n",
       "    <tr>\n",
       "      <td>557625</td>\n",
       "      <td>84070015</td>\n",
       "      <td>US</td>\n",
       "      <td>USA</td>\n",
       "      <td>840</td>\n",
       "      <td>NaN</td>\n",
       "      <td>Bear River</td>\n",
       "      <td>Utah</td>\n",
       "      <td>US</td>\n",
       "      <td>41.521068</td>\n",
       "      <td>-113.083282</td>\n",
       "      <td>Bear River, Utah, US</td>\n",
       "      <td>7/10/20</td>\n",
       "      <td>1724</td>\n",
       "      <td>3</td>\n",
       "    </tr>\n",
       "    <tr>\n",
       "      <td>557626</td>\n",
       "      <td>84070016</td>\n",
       "      <td>US</td>\n",
       "      <td>USA</td>\n",
       "      <td>840</td>\n",
       "      <td>NaN</td>\n",
       "      <td>Central Utah</td>\n",
       "      <td>Utah</td>\n",
       "      <td>US</td>\n",
       "      <td>39.372319</td>\n",
       "      <td>-111.575868</td>\n",
       "      <td>Central Utah, Utah, US</td>\n",
       "      <td>7/10/20</td>\n",
       "      <td>263</td>\n",
       "      <td>0</td>\n",
       "    </tr>\n",
       "    <tr>\n",
       "      <td>557627</td>\n",
       "      <td>84070017</td>\n",
       "      <td>US</td>\n",
       "      <td>USA</td>\n",
       "      <td>840</td>\n",
       "      <td>NaN</td>\n",
       "      <td>Southeast Utah</td>\n",
       "      <td>Utah</td>\n",
       "      <td>US</td>\n",
       "      <td>38.996171</td>\n",
       "      <td>-110.701396</td>\n",
       "      <td>Southeast Utah, Utah, US</td>\n",
       "      <td>7/10/20</td>\n",
       "      <td>50</td>\n",
       "      <td>0</td>\n",
       "    </tr>\n",
       "    <tr>\n",
       "      <td>557628</td>\n",
       "      <td>84070018</td>\n",
       "      <td>US</td>\n",
       "      <td>USA</td>\n",
       "      <td>840</td>\n",
       "      <td>NaN</td>\n",
       "      <td>Southwest Utah</td>\n",
       "      <td>Utah</td>\n",
       "      <td>US</td>\n",
       "      <td>37.854472</td>\n",
       "      <td>-111.441876</td>\n",
       "      <td>Southwest Utah, Utah, US</td>\n",
       "      <td>7/10/20</td>\n",
       "      <td>1949</td>\n",
       "      <td>16</td>\n",
       "    </tr>\n",
       "    <tr>\n",
       "      <td>557629</td>\n",
       "      <td>84070019</td>\n",
       "      <td>US</td>\n",
       "      <td>USA</td>\n",
       "      <td>840</td>\n",
       "      <td>NaN</td>\n",
       "      <td>TriCounty</td>\n",
       "      <td>Utah</td>\n",
       "      <td>US</td>\n",
       "      <td>40.124915</td>\n",
       "      <td>-109.517442</td>\n",
       "      <td>TriCounty, Utah, US</td>\n",
       "      <td>7/10/20</td>\n",
       "      <td>63</td>\n",
       "      <td>0</td>\n",
       "    </tr>\n",
       "    <tr>\n",
       "      <td>557630</td>\n",
       "      <td>84070020</td>\n",
       "      <td>US</td>\n",
       "      <td>USA</td>\n",
       "      <td>840</td>\n",
       "      <td>NaN</td>\n",
       "      <td>Weber-Morgan</td>\n",
       "      <td>Utah</td>\n",
       "      <td>US</td>\n",
       "      <td>41.271160</td>\n",
       "      <td>-111.914512</td>\n",
       "      <td>Weber-Morgan, Utah, US</td>\n",
       "      <td>7/10/20</td>\n",
       "      <td>1456</td>\n",
       "      <td>14</td>\n",
       "    </tr>\n",
       "  </tbody>\n",
       "</table>\n",
       "</div>"
      ],
      "text/plain": [
       "             UID iso2 iso3  code3  FIPS  \\\n",
       "557621  84070002   US  USA    840   NaN   \n",
       "557622  84070003   US  USA    840   NaN   \n",
       "557623  84070004   US  USA    840   NaN   \n",
       "557624  84070005   US  USA    840   NaN   \n",
       "557625  84070015   US  USA    840   NaN   \n",
       "557626  84070016   US  USA    840   NaN   \n",
       "557627  84070017   US  USA    840   NaN   \n",
       "557628  84070018   US  USA    840   NaN   \n",
       "557629  84070019   US  USA    840   NaN   \n",
       "557630  84070020   US  USA    840   NaN   \n",
       "\n",
       "                                           Admin2 Province_State  \\\n",
       "557621                        Dukes and Nantucket  Massachusetts   \n",
       "557622                                Kansas City       Missouri   \n",
       "557623  Michigan Department of Corrections (MDOC)       Michigan   \n",
       "557624     Federal Correctional Institution (FCI)       Michigan   \n",
       "557625                                 Bear River           Utah   \n",
       "557626                               Central Utah           Utah   \n",
       "557627                             Southeast Utah           Utah   \n",
       "557628                             Southwest Utah           Utah   \n",
       "557629                                  TriCounty           Utah   \n",
       "557630                               Weber-Morgan           Utah   \n",
       "\n",
       "       Country_Region        Lat       Long_  \\\n",
       "557621             US  41.406747  -70.687635   \n",
       "557622             US  39.099700  -94.578600   \n",
       "557623             US   0.000000    0.000000   \n",
       "557624             US   0.000000    0.000000   \n",
       "557625             US  41.521068 -113.083282   \n",
       "557626             US  39.372319 -111.575868   \n",
       "557627             US  38.996171 -110.701396   \n",
       "557628             US  37.854472 -111.441876   \n",
       "557629             US  40.124915 -109.517442   \n",
       "557630             US  41.271160 -111.914512   \n",
       "\n",
       "                                             Combined_Key     Date  Confirmed  \\\n",
       "557621               Dukes and Nantucket,Massachusetts,US  7/10/20         78   \n",
       "557622                            Kansas City,Missouri,US  7/10/20       3040   \n",
       "557623  Michigan Department of Corrections (MDOC), Mic...  7/10/20       4111   \n",
       "557624  Federal Correctional Institution (FCI), Michig...  7/10/20        186   \n",
       "557625                               Bear River, Utah, US  7/10/20       1724   \n",
       "557626                             Central Utah, Utah, US  7/10/20        263   \n",
       "557627                           Southeast Utah, Utah, US  7/10/20         50   \n",
       "557628                           Southwest Utah, Utah, US  7/10/20       1949   \n",
       "557629                                TriCounty, Utah, US  7/10/20         63   \n",
       "557630                             Weber-Morgan, Utah, US  7/10/20       1456   \n",
       "\n",
       "        Deaths  \n",
       "557621      20  \n",
       "557622       3  \n",
       "557623      68  \n",
       "557624       5  \n",
       "557625       3  \n",
       "557626       0  \n",
       "557627       0  \n",
       "557628      16  \n",
       "557629       0  \n",
       "557630      14  "
      ]
     },
     "execution_count": 4,
     "metadata": {
      "tags": []
     },
     "output_type": "execute_result"
    }
   ],
   "source": [
    "data.tail(10)"
   ]
  },
  {
   "cell_type": "code",
   "execution_count": null,
   "metadata": {
    "colab": {},
    "colab_type": "code",
    "id": "uxvQ-xE9ho2C",
    "outputId": "46bed7c4-6c68-4655-8fe5-348d3ed99257"
   },
   "outputs": [
    {
     "data": {
      "text/plain": [
       "(557631, 14)"
      ]
     },
     "execution_count": 5,
     "metadata": {
      "tags": []
     },
     "output_type": "execute_result"
    }
   ],
   "source": [
    "data.shape"
   ]
  },
  {
   "cell_type": "markdown",
   "metadata": {
    "colab_type": "text",
    "id": "mCwiyjTEho2M"
   },
   "source": [
    "Let us use the describe function to find the mean and standard deviation of all the confirmed cases and deaths"
   ]
  },
  {
   "cell_type": "code",
   "execution_count": null,
   "metadata": {
    "colab": {},
    "colab_type": "code",
    "id": "YjQnAfv3ho2N",
    "outputId": "f128232a-f42b-41ad-c756-d2c3f9be0815"
   },
   "outputs": [
    {
     "data": {
      "text/html": [
       "<div>\n",
       "<style scoped>\n",
       "    .dataframe tbody tr th:only-of-type {\n",
       "        vertical-align: middle;\n",
       "    }\n",
       "\n",
       "    .dataframe tbody tr th {\n",
       "        vertical-align: top;\n",
       "    }\n",
       "\n",
       "    .dataframe thead th {\n",
       "        text-align: right;\n",
       "    }\n",
       "</style>\n",
       "<table border=\"1\" class=\"dataframe\">\n",
       "  <thead>\n",
       "    <tr style=\"text-align: right;\">\n",
       "      <th></th>\n",
       "      <th>UID</th>\n",
       "      <th>code3</th>\n",
       "      <th>FIPS</th>\n",
       "      <th>Lat</th>\n",
       "      <th>Long_</th>\n",
       "      <th>Confirmed</th>\n",
       "      <th>Deaths</th>\n",
       "    </tr>\n",
       "  </thead>\n",
       "  <tbody>\n",
       "    <tr>\n",
       "      <td>count</td>\n",
       "      <td>5.576310e+05</td>\n",
       "      <td>557631.000000</td>\n",
       "      <td>555921.000000</td>\n",
       "      <td>557631.000000</td>\n",
       "      <td>557631.000000</td>\n",
       "      <td>557631.000000</td>\n",
       "      <td>557631.000000</td>\n",
       "    </tr>\n",
       "    <tr>\n",
       "      <td>mean</td>\n",
       "      <td>8.390341e+07</td>\n",
       "      <td>839.445569</td>\n",
       "      <td>32090.929560</td>\n",
       "      <td>37.165903</td>\n",
       "      <td>-89.160375</td>\n",
       "      <td>287.341939</td>\n",
       "      <td>15.450734</td>\n",
       "    </tr>\n",
       "    <tr>\n",
       "      <td>std</td>\n",
       "      <td>3.287962e+06</td>\n",
       "      <td>18.066214</td>\n",
       "      <td>17822.427507</td>\n",
       "      <td>8.661135</td>\n",
       "      <td>21.543754</td>\n",
       "      <td>3099.075126</td>\n",
       "      <td>286.036535</td>\n",
       "    </tr>\n",
       "    <tr>\n",
       "      <td>min</td>\n",
       "      <td>1.600000e+01</td>\n",
       "      <td>16.000000</td>\n",
       "      <td>60.000000</td>\n",
       "      <td>-14.271000</td>\n",
       "      <td>-170.132000</td>\n",
       "      <td>0.000000</td>\n",
       "      <td>0.000000</td>\n",
       "    </tr>\n",
       "    <tr>\n",
       "      <td>25%</td>\n",
       "      <td>8.401904e+07</td>\n",
       "      <td>840.000000</td>\n",
       "      <td>19037.000000</td>\n",
       "      <td>34.237321</td>\n",
       "      <td>-98.066628</td>\n",
       "      <td>0.000000</td>\n",
       "      <td>0.000000</td>\n",
       "    </tr>\n",
       "    <tr>\n",
       "      <td>50%</td>\n",
       "      <td>8.403006e+07</td>\n",
       "      <td>840.000000</td>\n",
       "      <td>30045.000000</td>\n",
       "      <td>38.149014</td>\n",
       "      <td>-89.827411</td>\n",
       "      <td>2.000000</td>\n",
       "      <td>0.000000</td>\n",
       "    </tr>\n",
       "    <tr>\n",
       "      <td>75%</td>\n",
       "      <td>8.404702e+07</td>\n",
       "      <td>840.000000</td>\n",
       "      <td>47011.000000</td>\n",
       "      <td>41.683301</td>\n",
       "      <td>-82.793570</td>\n",
       "      <td>43.000000</td>\n",
       "      <td>1.000000</td>\n",
       "    </tr>\n",
       "    <tr>\n",
       "      <td>max</td>\n",
       "      <td>8.410000e+07</td>\n",
       "      <td>850.000000</td>\n",
       "      <td>99999.000000</td>\n",
       "      <td>69.314792</td>\n",
       "      <td>145.673900</td>\n",
       "      <td>218403.000000</td>\n",
       "      <td>23267.000000</td>\n",
       "    </tr>\n",
       "  </tbody>\n",
       "</table>\n",
       "</div>"
      ],
      "text/plain": [
       "                UID          code3           FIPS            Lat  \\\n",
       "count  5.576310e+05  557631.000000  555921.000000  557631.000000   \n",
       "mean   8.390341e+07     839.445569   32090.929560      37.165903   \n",
       "std    3.287962e+06      18.066214   17822.427507       8.661135   \n",
       "min    1.600000e+01      16.000000      60.000000     -14.271000   \n",
       "25%    8.401904e+07     840.000000   19037.000000      34.237321   \n",
       "50%    8.403006e+07     840.000000   30045.000000      38.149014   \n",
       "75%    8.404702e+07     840.000000   47011.000000      41.683301   \n",
       "max    8.410000e+07     850.000000   99999.000000      69.314792   \n",
       "\n",
       "               Long_      Confirmed         Deaths  \n",
       "count  557631.000000  557631.000000  557631.000000  \n",
       "mean      -89.160375     287.341939      15.450734  \n",
       "std        21.543754    3099.075126     286.036535  \n",
       "min      -170.132000       0.000000       0.000000  \n",
       "25%       -98.066628       0.000000       0.000000  \n",
       "50%       -89.827411       2.000000       0.000000  \n",
       "75%       -82.793570      43.000000       1.000000  \n",
       "max       145.673900  218403.000000   23267.000000  "
      ]
     },
     "execution_count": 6,
     "metadata": {
      "tags": []
     },
     "output_type": "execute_result"
    }
   ],
   "source": [
    "#Calculating the mean,std,min and max for the coloumns of the data\n",
    "data.describe()"
   ]
  },
  {
   "cell_type": "code",
   "execution_count": null,
   "metadata": {
    "colab": {},
    "colab_type": "code",
    "id": "zE7LFzVwho2W"
   },
   "outputs": [],
   "source": [
    "#Some of the data is of countries other than US in this cell, we are cleaning the data to get rid of any rows for which the country is not USA.\n",
    "data['iso3'].value_counts()\n",
    "data.drop(data[data['iso3'] != 'USA'].index, inplace = True) "
   ]
  },
  {
   "cell_type": "code",
   "execution_count": null,
   "metadata": {
    "colab": {},
    "colab_type": "code",
    "id": "SVjMJlYlho2f",
    "outputId": "f82d0b14-ab81-4a27-d41a-05f50eaf150b"
   },
   "outputs": [
    {
     "data": {
      "text/plain": [
       "USA    556776\n",
       "Name: iso3, dtype: int64"
      ]
     },
     "execution_count": 8,
     "metadata": {
      "tags": []
     },
     "output_type": "execute_result"
    }
   ],
   "source": [
    "data['iso3'].value_counts()"
   ]
  },
  {
   "cell_type": "code",
   "execution_count": null,
   "metadata": {
    "colab": {},
    "colab_type": "code",
    "id": "Sq2oT6p8ho2n",
    "outputId": "a67fc4be-cc29-4296-8905-5805f0c10b80"
   },
   "outputs": [
    {
     "data": {
      "text/html": [
       "<div>\n",
       "<style scoped>\n",
       "    .dataframe tbody tr th:only-of-type {\n",
       "        vertical-align: middle;\n",
       "    }\n",
       "\n",
       "    .dataframe tbody tr th {\n",
       "        vertical-align: top;\n",
       "    }\n",
       "\n",
       "    .dataframe thead th {\n",
       "        text-align: right;\n",
       "    }\n",
       "</style>\n",
       "<table border=\"1\" class=\"dataframe\">\n",
       "  <thead>\n",
       "    <tr style=\"text-align: right;\">\n",
       "      <th></th>\n",
       "      <th>UID</th>\n",
       "      <th>code3</th>\n",
       "      <th>FIPS</th>\n",
       "      <th>Lat</th>\n",
       "      <th>Long_</th>\n",
       "      <th>Confirmed</th>\n",
       "      <th>Deaths</th>\n",
       "    </tr>\n",
       "  </thead>\n",
       "  <tbody>\n",
       "    <tr>\n",
       "      <td>count</td>\n",
       "      <td>5.567760e+05</td>\n",
       "      <td>556776.0</td>\n",
       "      <td>555066.000000</td>\n",
       "      <td>556776.000000</td>\n",
       "      <td>556776.000000</td>\n",
       "      <td>556776.000000</td>\n",
       "      <td>556776.000000</td>\n",
       "    </tr>\n",
       "    <tr>\n",
       "      <td>mean</td>\n",
       "      <td>8.403226e+07</td>\n",
       "      <td>840.0</td>\n",
       "      <td>32140.254775</td>\n",
       "      <td>37.207365</td>\n",
       "      <td>-89.293868</td>\n",
       "      <td>287.071327</td>\n",
       "      <td>15.452372</td>\n",
       "    </tr>\n",
       "    <tr>\n",
       "      <td>std</td>\n",
       "      <td>1.788758e+04</td>\n",
       "      <td>0.0</td>\n",
       "      <td>17791.747417</td>\n",
       "      <td>8.589216</td>\n",
       "      <td>20.705792</td>\n",
       "      <td>3100.920661</td>\n",
       "      <td>286.252183</td>\n",
       "    </tr>\n",
       "    <tr>\n",
       "      <td>min</td>\n",
       "      <td>8.400100e+07</td>\n",
       "      <td>840.0</td>\n",
       "      <td>1001.000000</td>\n",
       "      <td>0.000000</td>\n",
       "      <td>-164.035380</td>\n",
       "      <td>0.000000</td>\n",
       "      <td>0.000000</td>\n",
       "    </tr>\n",
       "    <tr>\n",
       "      <td>25%</td>\n",
       "      <td>8.401905e+07</td>\n",
       "      <td>840.0</td>\n",
       "      <td>19045.000000</td>\n",
       "      <td>34.256081</td>\n",
       "      <td>-98.066814</td>\n",
       "      <td>0.000000</td>\n",
       "      <td>0.000000</td>\n",
       "    </tr>\n",
       "    <tr>\n",
       "      <td>50%</td>\n",
       "      <td>8.403006e+07</td>\n",
       "      <td>840.0</td>\n",
       "      <td>30050.000000</td>\n",
       "      <td>38.162993</td>\n",
       "      <td>-89.900575</td>\n",
       "      <td>2.000000</td>\n",
       "      <td>0.000000</td>\n",
       "    </tr>\n",
       "    <tr>\n",
       "      <td>75%</td>\n",
       "      <td>8.404703e+07</td>\n",
       "      <td>840.0</td>\n",
       "      <td>47013.000000</td>\n",
       "      <td>41.683958</td>\n",
       "      <td>-82.815121</td>\n",
       "      <td>43.000000</td>\n",
       "      <td>1.000000</td>\n",
       "    </tr>\n",
       "    <tr>\n",
       "      <td>max</td>\n",
       "      <td>8.410000e+07</td>\n",
       "      <td>840.0</td>\n",
       "      <td>99999.000000</td>\n",
       "      <td>69.314792</td>\n",
       "      <td>0.000000</td>\n",
       "      <td>218403.000000</td>\n",
       "      <td>23267.000000</td>\n",
       "    </tr>\n",
       "  </tbody>\n",
       "</table>\n",
       "</div>"
      ],
      "text/plain": [
       "                UID     code3           FIPS            Lat          Long_  \\\n",
       "count  5.567760e+05  556776.0  555066.000000  556776.000000  556776.000000   \n",
       "mean   8.403226e+07     840.0   32140.254775      37.207365     -89.293868   \n",
       "std    1.788758e+04       0.0   17791.747417       8.589216      20.705792   \n",
       "min    8.400100e+07     840.0    1001.000000       0.000000    -164.035380   \n",
       "25%    8.401905e+07     840.0   19045.000000      34.256081     -98.066814   \n",
       "50%    8.403006e+07     840.0   30050.000000      38.162993     -89.900575   \n",
       "75%    8.404703e+07     840.0   47013.000000      41.683958     -82.815121   \n",
       "max    8.410000e+07     840.0   99999.000000      69.314792       0.000000   \n",
       "\n",
       "           Confirmed         Deaths  \n",
       "count  556776.000000  556776.000000  \n",
       "mean      287.071327      15.452372  \n",
       "std      3100.920661     286.252183  \n",
       "min         0.000000       0.000000  \n",
       "25%         0.000000       0.000000  \n",
       "50%         2.000000       0.000000  \n",
       "75%        43.000000       1.000000  \n",
       "max    218403.000000   23267.000000  "
      ]
     },
     "execution_count": 9,
     "metadata": {
      "tags": []
     },
     "output_type": "execute_result"
    }
   ],
   "source": [
    "#Calculating statistics for the cleaned dataset\n",
    "data.describe()"
   ]
  },
  {
   "cell_type": "code",
   "execution_count": null,
   "metadata": {
    "colab": {},
    "colab_type": "code",
    "id": "xWq0MSA2ho2v",
    "outputId": "74799843-97b8-462b-862c-45b1789aac28"
   },
   "outputs": [
    {
     "data": {
      "text/plain": [
       "Texas                   43776\n",
       "Georgia                 27531\n",
       "Virginia                23085\n",
       "Kentucky                20862\n",
       "Missouri                20178\n",
       "Kansas                  18297\n",
       "Illinois                17784\n",
       "North Carolina          17442\n",
       "Iowa                    17271\n",
       "Tennessee               16587\n",
       "Nebraska                16245\n",
       "Indiana                 16074\n",
       "Ohio                    15390\n",
       "Minnesota               15219\n",
       "Michigan                14877\n",
       "Mississippi             14364\n",
       "Oklahoma                13509\n",
       "Arkansas                13167\n",
       "Wisconsin               12654\n",
       "Alabama                 11799\n",
       "Florida                 11799\n",
       "Pennsylvania            11799\n",
       "South Dakota            11628\n",
       "Colorado                11286\n",
       "Louisiana               11286\n",
       "New York                10944\n",
       "California              10260\n",
       "Montana                  9918\n",
       "West Virginia            9747\n",
       "North Dakota             9405\n",
       "South Carolina           8208\n",
       "Idaho                    7866\n",
       "Washington               7011\n",
       "Oregon                   6498\n",
       "Utah                     6327\n",
       "New Mexico               5985\n",
       "Alaska                   5301\n",
       "Maryland                 4446\n",
       "Wyoming                  4275\n",
       "New Jersey               3933\n",
       "Nevada                   3249\n",
       "Maine                    3078\n",
       "Arizona                  2907\n",
       "Massachusetts            2907\n",
       "Vermont                  2736\n",
       "New Hampshire            2052\n",
       "Connecticut              1710\n",
       "Hawaii                   1197\n",
       "Rhode Island             1197\n",
       "Delaware                  855\n",
       "District of Columbia      513\n",
       "Grand Princess            171\n",
       "Diamond Princess          171\n",
       "Name: Province_State, dtype: int64"
      ]
     },
     "execution_count": 10,
     "metadata": {
      "tags": []
     },
     "output_type": "execute_result"
    }
   ],
   "source": [
    "data['Province_State'].value_counts()"
   ]
  },
  {
   "cell_type": "code",
   "execution_count": null,
   "metadata": {
    "colab": {},
    "colab_type": "code",
    "id": "RxYXniB4ho25",
    "outputId": "24f2793d-b0c5-4042-a278-5aba949c928d"
   },
   "outputs": [
    {
     "data": {
      "text/plain": [
       "US    556776\n",
       "Name: Country_Region, dtype: int64"
      ]
     },
     "execution_count": 11,
     "metadata": {
      "tags": []
     },
     "output_type": "execute_result"
    }
   ],
   "source": [
    "data['Country_Region'].value_counts()"
   ]
  },
  {
   "cell_type": "code",
   "execution_count": null,
   "metadata": {
    "colab": {},
    "colab_type": "code",
    "id": "Pg2sdg4Aho3A",
    "outputId": "ff09302a-e854-481c-c37d-75818c1c5958"
   },
   "outputs": [
    {
     "data": {
      "text/plain": [
       "UID               0\n",
       "iso2              0\n",
       "iso3              0\n",
       "code3             0\n",
       "FIPS              0\n",
       "Admin2            0\n",
       "Province_State    0\n",
       "Country_Region    0\n",
       "Lat               0\n",
       "Long_             0\n",
       "Combined_Key      0\n",
       "Date              0\n",
       "Confirmed         0\n",
       "Deaths            0\n",
       "dtype: int64"
      ]
     },
     "execution_count": 12,
     "metadata": {
      "tags": []
     },
     "output_type": "execute_result"
    }
   ],
   "source": [
    "#As we can see there are no missing values\n",
    "data.isin(['?']).sum(axis=0)"
   ]
  },
  {
   "cell_type": "code",
   "execution_count": null,
   "metadata": {
    "colab": {},
    "colab_type": "code",
    "id": "Xf3lnZeUho3K"
   },
   "outputs": [],
   "source": [
    "#Let us take the data belonging to new york state\n",
    "data_ny = data[data['Province_State']=='New York' ]"
   ]
  },
  {
   "cell_type": "code",
   "execution_count": null,
   "metadata": {
    "colab": {},
    "colab_type": "code",
    "id": "5I7-2pc2ho3R",
    "outputId": "19f3ab33-6124-4aa5-fecb-a771c83f695e"
   },
   "outputs": [
    {
     "data": {
      "text/plain": [
       "(10944, 14)"
      ]
     },
     "execution_count": 14,
     "metadata": {
      "tags": []
     },
     "output_type": "execute_result"
    }
   ],
   "source": [
    "data_ny.shape\n"
   ]
  },
  {
   "cell_type": "code",
   "execution_count": null,
   "metadata": {
    "colab": {},
    "colab_type": "code",
    "id": "aQCp1qL_ho3Y",
    "outputId": "b430d0ab-0ef1-4ca2-85c3-26570a7de4eb"
   },
   "outputs": [
    {
     "data": {
      "text/plain": [
       "<Figure size 4000x1000 with 1 Axes>"
      ]
     },
     "metadata": {
      "tags": []
     },
     "output_type": "display_data"
    }
   ],
   "source": [
    "#This plot shows the confirmed cases in NY against time. Althought the graph is pretty bumpy it does look like we have reached the peak in state of NY\n",
    "plt.figure(figsize=(40,10))\n",
    "plt.plot(data_ny.Date.unique(), data_ny.groupby('Date')['Confirmed'].sum())\n",
    "plt.xlabel('Dates')\n",
    "plt.ylabel('Confirmed Cases in New York')\n",
    "plt.title('New York covid-19 Statistics')\n",
    "plt.xticks(rotation='vertical')\n",
    "\n",
    "plt.savefig('NY_cases.png', dpi=80)\n",
    "\n",
    "plt.show()"
   ]
  },
  {
   "cell_type": "code",
   "execution_count": null,
   "metadata": {
    "colab": {},
    "colab_type": "code",
    "id": "0Vl3DUyBho3f",
    "outputId": "396fcfda-2970-475a-ec08-7ca1cb5d10e6"
   },
   "outputs": [
    {
     "data": {
      "image/png": "[encoded data removed]",
      "text/plain": [
       "<Figure size 2880x720 with 1 Axes>"
      ]
     },
     "metadata": {
      "needs_background": "light",
      "tags": []
     },
     "output_type": "display_data"
    }
   ],
   "source": [
    "#This plot shows the confirmed deaths in NY against time. THe graph almost seems to be  linear at the end so looks like we reached the peak of the death rates.\n",
    "\n",
    "plt.figure(figsize=(40,10))\n",
    "plt.plot(data_ny.Date.unique(), data_ny.groupby('Date')['Deaths'].sum())\n",
    "plt.xlabel('Dates')\n",
    "plt.ylabel('Confirmed Deaths in New York')\n",
    "plt.title('New York covid-19 Statistics')\n",
    "plt.xticks(rotation='vertical')\n",
    "\n",
    "plt.savefig('NY_deaths.png', dpi=80)\n",
    "\n",
    "plt.show()"
   ]
  },
  {
   "cell_type": "code",
   "execution_count": null,
   "metadata": {
    "colab": {},
    "colab_type": "code",
    "id": "tygLqxfFho3m"
   },
   "outputs": [],
   "source": [
    "#Let us take the data for the month of june in NY\n",
    "data_ny_june = data_ny[(data_ny['Date']>='6/1/2020') & (data_ny['Date']<'6/30/2020')]"
   ]
  },
  {
   "cell_type": "code",
   "execution_count": null,
   "metadata": {
    "colab": {},
    "colab_type": "code",
    "id": "I0lRM4HYho3t",
    "outputId": "4b02a3c8-e2e9-4a0a-836f-7d44699907f6"
   },
   "outputs": [
    {
     "data": {
      "text/plain": [
       "(1472, 14)"
      ]
     },
     "execution_count": 18,
     "metadata": {
      "tags": []
     },
     "output_type": "execute_result"
    }
   ],
   "source": [
    "data_ny_june.shape\n"
   ]
  },
  {
   "cell_type": "code",
   "execution_count": null,
   "metadata": {
    "colab": {},
    "colab_type": "code",
    "id": "jw5DToilho30",
    "outputId": "37916d8f-99aa-4b45-ef6b-20c3704c081c"
   },
   "outputs": [
    {
     "data": {
      "text/plain": [
       "0"
      ]
     },
     "execution_count": 19,
     "metadata": {
      "tags": []
     },
     "output_type": "execute_result"
    }
   ],
   "source": [
    "data_ny_june['Confirmed'].min()"
   ]
  },
  {
   "cell_type": "code",
   "execution_count": null,
   "metadata": {
    "colab": {},
    "colab_type": "code",
    "id": "U6gjRnxZho39",
    "outputId": "5704ad92-e733-498b-cc73-13595fc3b636"
   },
   "outputs": [
    {
     "data": {
      "text/plain": [
       "215179"
      ]
     },
     "execution_count": 20,
     "metadata": {
      "tags": []
     },
     "output_type": "execute_result"
    }
   ],
   "source": [
    "data_ny_june['Confirmed'].max()"
   ]
  },
  {
   "cell_type": "code",
   "execution_count": null,
   "metadata": {
    "colab": {},
    "colab_type": "code",
    "id": "vjKku7NQho4F",
    "outputId": "25392927-1bfe-4b93-d0de-9f61f7e87c95"
   },
   "outputs": [
    {
     "data": {
      "image/png": "[encoded data removed]",
      "text/plain": [
       "<Figure size 1440x720 with 1 Axes>"
      ]
     },
     "metadata": {
      "needs_background": "light",
      "tags": []
     },
     "output_type": "display_data"
    }
   ],
   "source": [
    "# This graph shows the confirmed cases in NY in june as we observe, the number of cases are still rising but in a small number\n",
    "\n",
    "plt.figure(figsize=(20,10))\n",
    "plt.plot(data_ny_june.Date.unique(), data_ny_june.groupby('Date')['Confirmed'].sum())\n",
    "plt.xlabel('Dates')\n",
    "plt.ylabel('Confirmed cases in New York in june')\n",
    "plt.title('New York covid-19 Statistics in june')\n",
    "plt.xticks(rotation='vertical')\n",
    "\n",
    "plt.savefig('NY_cases_june.png', dpi=80)\n",
    "\n",
    "plt.show()"
   ]
  },
  {
   "cell_type": "code",
   "execution_count": null,
   "metadata": {
    "colab": {},
    "colab_type": "code",
    "id": "riNaF3F2ho4M",
    "outputId": "724d2928-bec6-4b33-9cfe-b82c81ecce2c"
   },
   "outputs": [
    {
     "data": {
      "image/png": "[encoded data removed]",
      "text/plain": [
       "<Figure size 1440x720 with 1 Axes>"
      ]
     },
     "metadata": {
      "needs_background": "light",
      "tags": []
     },
     "output_type": "display_data"
    }
   ],
   "source": [
    "#data_ny_june['Confirmed'].sort_index().plot.hist()\n",
    "plt.figure(figsize=(20,10))\n",
    "plt.plot(data_ny_june.Date.unique(), data_ny_june.groupby('Date')['Deaths'].sum())\n",
    "plt.xlabel('Dates')\n",
    "plt.ylabel('Confirmed Deaths in New York in june')\n",
    "plt.title('New York covid-19 Statistics in june')\n",
    "plt.xticks(rotation='vertical')\n",
    "\n",
    "plt.savefig('NY_deaths_june.png', dpi=80)\n",
    "\n",
    "plt.show()"
   ]
  },
  {
   "cell_type": "code",
   "execution_count": null,
   "metadata": {
    "colab": {},
    "colab_type": "code",
    "id": "GCJtq95-ho4U"
   },
   "outputs": [],
   "source": [
    "#Let us take the data for erie county\n",
    "erie_county_data = data_ny[data_ny['Admin2']=='Erie']"
   ]
  },
  {
   "cell_type": "code",
   "execution_count": null,
   "metadata": {
    "colab": {},
    "colab_type": "code",
    "id": "aZ3kSrCnho4b",
    "outputId": "ea796661-6b8e-4bfa-fe21-ccfcb0c78213"
   },
   "outputs": [
    {
     "data": {
      "text/html": [
       "<div>\n",
       "<style scoped>\n",
       "    .dataframe tbody tr th:only-of-type {\n",
       "        vertical-align: middle;\n",
       "    }\n",
       "\n",
       "    .dataframe tbody tr th {\n",
       "        vertical-align: top;\n",
       "    }\n",
       "\n",
       "    .dataframe thead th {\n",
       "        text-align: right;\n",
       "    }\n",
       "</style>\n",
       "<table border=\"1\" class=\"dataframe\">\n",
       "  <thead>\n",
       "    <tr style=\"text-align: right;\">\n",
       "      <th></th>\n",
       "      <th>UID</th>\n",
       "      <th>iso2</th>\n",
       "      <th>iso3</th>\n",
       "      <th>code3</th>\n",
       "      <th>FIPS</th>\n",
       "      <th>Admin2</th>\n",
       "      <th>Province_State</th>\n",
       "      <th>Country_Region</th>\n",
       "      <th>Lat</th>\n",
       "      <th>Long_</th>\n",
       "      <th>Combined_Key</th>\n",
       "      <th>Date</th>\n",
       "      <th>Confirmed</th>\n",
       "      <th>Deaths</th>\n",
       "    </tr>\n",
       "  </thead>\n",
       "  <tbody>\n",
       "    <tr>\n",
       "      <td>1847</td>\n",
       "      <td>84036029</td>\n",
       "      <td>US</td>\n",
       "      <td>USA</td>\n",
       "      <td>840</td>\n",
       "      <td>36029.0</td>\n",
       "      <td>Erie</td>\n",
       "      <td>New York</td>\n",
       "      <td>US</td>\n",
       "      <td>42.76249</td>\n",
       "      <td>-78.730637</td>\n",
       "      <td>Erie, New York, US</td>\n",
       "      <td>1/22/20</td>\n",
       "      <td>0</td>\n",
       "      <td>0</td>\n",
       "    </tr>\n",
       "    <tr>\n",
       "      <td>5108</td>\n",
       "      <td>84036029</td>\n",
       "      <td>US</td>\n",
       "      <td>USA</td>\n",
       "      <td>840</td>\n",
       "      <td>36029.0</td>\n",
       "      <td>Erie</td>\n",
       "      <td>New York</td>\n",
       "      <td>US</td>\n",
       "      <td>42.76249</td>\n",
       "      <td>-78.730637</td>\n",
       "      <td>Erie, New York, US</td>\n",
       "      <td>1/23/20</td>\n",
       "      <td>0</td>\n",
       "      <td>0</td>\n",
       "    </tr>\n",
       "    <tr>\n",
       "      <td>8369</td>\n",
       "      <td>84036029</td>\n",
       "      <td>US</td>\n",
       "      <td>USA</td>\n",
       "      <td>840</td>\n",
       "      <td>36029.0</td>\n",
       "      <td>Erie</td>\n",
       "      <td>New York</td>\n",
       "      <td>US</td>\n",
       "      <td>42.76249</td>\n",
       "      <td>-78.730637</td>\n",
       "      <td>Erie, New York, US</td>\n",
       "      <td>1/24/20</td>\n",
       "      <td>0</td>\n",
       "      <td>0</td>\n",
       "    </tr>\n",
       "    <tr>\n",
       "      <td>11630</td>\n",
       "      <td>84036029</td>\n",
       "      <td>US</td>\n",
       "      <td>USA</td>\n",
       "      <td>840</td>\n",
       "      <td>36029.0</td>\n",
       "      <td>Erie</td>\n",
       "      <td>New York</td>\n",
       "      <td>US</td>\n",
       "      <td>42.76249</td>\n",
       "      <td>-78.730637</td>\n",
       "      <td>Erie, New York, US</td>\n",
       "      <td>1/25/20</td>\n",
       "      <td>0</td>\n",
       "      <td>0</td>\n",
       "    </tr>\n",
       "    <tr>\n",
       "      <td>14891</td>\n",
       "      <td>84036029</td>\n",
       "      <td>US</td>\n",
       "      <td>USA</td>\n",
       "      <td>840</td>\n",
       "      <td>36029.0</td>\n",
       "      <td>Erie</td>\n",
       "      <td>New York</td>\n",
       "      <td>US</td>\n",
       "      <td>42.76249</td>\n",
       "      <td>-78.730637</td>\n",
       "      <td>Erie, New York, US</td>\n",
       "      <td>1/26/20</td>\n",
       "      <td>0</td>\n",
       "      <td>0</td>\n",
       "    </tr>\n",
       "    <tr>\n",
       "      <td>...</td>\n",
       "      <td>...</td>\n",
       "      <td>...</td>\n",
       "      <td>...</td>\n",
       "      <td>...</td>\n",
       "      <td>...</td>\n",
       "      <td>...</td>\n",
       "      <td>...</td>\n",
       "      <td>...</td>\n",
       "      <td>...</td>\n",
       "      <td>...</td>\n",
       "      <td>...</td>\n",
       "      <td>...</td>\n",
       "      <td>...</td>\n",
       "      <td>...</td>\n",
       "    </tr>\n",
       "    <tr>\n",
       "      <td>543173</td>\n",
       "      <td>84036029</td>\n",
       "      <td>US</td>\n",
       "      <td>USA</td>\n",
       "      <td>840</td>\n",
       "      <td>36029.0</td>\n",
       "      <td>Erie</td>\n",
       "      <td>New York</td>\n",
       "      <td>US</td>\n",
       "      <td>42.76249</td>\n",
       "      <td>-78.730637</td>\n",
       "      <td>Erie, New York, US</td>\n",
       "      <td>7/6/20</td>\n",
       "      <td>7500</td>\n",
       "      <td>639</td>\n",
       "    </tr>\n",
       "    <tr>\n",
       "      <td>546434</td>\n",
       "      <td>84036029</td>\n",
       "      <td>US</td>\n",
       "      <td>USA</td>\n",
       "      <td>840</td>\n",
       "      <td>36029.0</td>\n",
       "      <td>Erie</td>\n",
       "      <td>New York</td>\n",
       "      <td>US</td>\n",
       "      <td>42.76249</td>\n",
       "      <td>-78.730637</td>\n",
       "      <td>Erie, New York, US</td>\n",
       "      <td>7/7/20</td>\n",
       "      <td>7544</td>\n",
       "      <td>639</td>\n",
       "    </tr>\n",
       "    <tr>\n",
       "      <td>549695</td>\n",
       "      <td>84036029</td>\n",
       "      <td>US</td>\n",
       "      <td>USA</td>\n",
       "      <td>840</td>\n",
       "      <td>36029.0</td>\n",
       "      <td>Erie</td>\n",
       "      <td>New York</td>\n",
       "      <td>US</td>\n",
       "      <td>42.76249</td>\n",
       "      <td>-78.730637</td>\n",
       "      <td>Erie, New York, US</td>\n",
       "      <td>7/8/20</td>\n",
       "      <td>7596</td>\n",
       "      <td>639</td>\n",
       "    </tr>\n",
       "    <tr>\n",
       "      <td>552956</td>\n",
       "      <td>84036029</td>\n",
       "      <td>US</td>\n",
       "      <td>USA</td>\n",
       "      <td>840</td>\n",
       "      <td>36029.0</td>\n",
       "      <td>Erie</td>\n",
       "      <td>New York</td>\n",
       "      <td>US</td>\n",
       "      <td>42.76249</td>\n",
       "      <td>-78.730637</td>\n",
       "      <td>Erie, New York, US</td>\n",
       "      <td>7/9/20</td>\n",
       "      <td>7624</td>\n",
       "      <td>639</td>\n",
       "    </tr>\n",
       "    <tr>\n",
       "      <td>556217</td>\n",
       "      <td>84036029</td>\n",
       "      <td>US</td>\n",
       "      <td>USA</td>\n",
       "      <td>840</td>\n",
       "      <td>36029.0</td>\n",
       "      <td>Erie</td>\n",
       "      <td>New York</td>\n",
       "      <td>US</td>\n",
       "      <td>42.76249</td>\n",
       "      <td>-78.730637</td>\n",
       "      <td>Erie, New York, US</td>\n",
       "      <td>7/10/20</td>\n",
       "      <td>7660</td>\n",
       "      <td>644</td>\n",
       "    </tr>\n",
       "  </tbody>\n",
       "</table>\n",
       "<p>171 rows × 14 columns</p>\n",
       "</div>"
      ],
      "text/plain": [
       "             UID iso2 iso3  code3     FIPS Admin2 Province_State  \\\n",
       "1847    84036029   US  USA    840  36029.0   Erie       New York   \n",
       "5108    84036029   US  USA    840  36029.0   Erie       New York   \n",
       "8369    84036029   US  USA    840  36029.0   Erie       New York   \n",
       "11630   84036029   US  USA    840  36029.0   Erie       New York   \n",
       "14891   84036029   US  USA    840  36029.0   Erie       New York   \n",
       "...          ...  ...  ...    ...      ...    ...            ...   \n",
       "543173  84036029   US  USA    840  36029.0   Erie       New York   \n",
       "546434  84036029   US  USA    840  36029.0   Erie       New York   \n",
       "549695  84036029   US  USA    840  36029.0   Erie       New York   \n",
       "552956  84036029   US  USA    840  36029.0   Erie       New York   \n",
       "556217  84036029   US  USA    840  36029.0   Erie       New York   \n",
       "\n",
       "       Country_Region       Lat      Long_        Combined_Key     Date  \\\n",
       "1847               US  42.76249 -78.730637  Erie, New York, US  1/22/20   \n",
       "5108               US  42.76249 -78.730637  Erie, New York, US  1/23/20   \n",
       "8369               US  42.76249 -78.730637  Erie, New York, US  1/24/20   \n",
       "11630              US  42.76249 -78.730637  Erie, New York, US  1/25/20   \n",
       "14891              US  42.76249 -78.730637  Erie, New York, US  1/26/20   \n",
       "...               ...       ...        ...                 ...      ...   \n",
       "543173             US  42.76249 -78.730637  Erie, New York, US   7/6/20   \n",
       "546434             US  42.76249 -78.730637  Erie, New York, US   7/7/20   \n",
       "549695             US  42.76249 -78.730637  Erie, New York, US   7/8/20   \n",
       "552956             US  42.76249 -78.730637  Erie, New York, US   7/9/20   \n",
       "556217             US  42.76249 -78.730637  Erie, New York, US  7/10/20   \n",
       "\n",
       "        Confirmed  Deaths  \n",
       "1847            0       0  \n",
       "5108            0       0  \n",
       "8369            0       0  \n",
       "11630           0       0  \n",
       "14891           0       0  \n",
       "...           ...     ...  \n",
       "543173       7500     639  \n",
       "546434       7544     639  \n",
       "549695       7596     639  \n",
       "552956       7624     639  \n",
       "556217       7660     644  \n",
       "\n",
       "[171 rows x 14 columns]"
      ]
     },
     "execution_count": 24,
     "metadata": {
      "tags": []
     },
     "output_type": "execute_result"
    }
   ],
   "source": [
    "erie_county_data"
   ]
  },
  {
   "cell_type": "code",
   "execution_count": null,
   "metadata": {
    "colab": {},
    "colab_type": "code",
    "id": "VcgqIqkmho4i",
    "outputId": "8fceacf4-c86c-4f49-c6a2-24b441aa2cea"
   },
   "outputs": [
    {
     "data": {
      "text/plain": [
       "7660"
      ]
     },
     "execution_count": 25,
     "metadata": {
      "tags": []
     },
     "output_type": "execute_result"
    }
   ],
   "source": [
    "erie_county_data['Confirmed'].max()"
   ]
  },
  {
   "cell_type": "code",
   "execution_count": null,
   "metadata": {
    "colab": {},
    "colab_type": "code",
    "id": "BhrokiZ5ho4o",
    "outputId": "e35b5962-58e0-4691-8f3c-4b06d6d810fc"
   },
   "outputs": [
    {
     "data": {
      "text/plain": [
       "0"
      ]
     },
     "execution_count": 26,
     "metadata": {
      "tags": []
     },
     "output_type": "execute_result"
    }
   ],
   "source": [
    "erie_county_data['Confirmed'].min()"
   ]
  },
  {
   "cell_type": "code",
   "execution_count": null,
   "metadata": {
    "colab": {},
    "colab_type": "code",
    "id": "ofktprvNho4x",
    "outputId": "641704fd-4c3d-4683-8421-dba48110fb57"
   },
   "outputs": [
    {
     "data": {
      "text/plain": [
       "644"
      ]
     },
     "execution_count": 27,
     "metadata": {
      "tags": []
     },
     "output_type": "execute_result"
    }
   ],
   "source": [
    "erie_county_data['Deaths'].max()"
   ]
  },
  {
   "cell_type": "code",
   "execution_count": null,
   "metadata": {
    "colab": {},
    "colab_type": "code",
    "id": "IExFUA8Eho42",
    "outputId": "480cddf3-a73e-4e77-d6de-e1804d461eef"
   },
   "outputs": [
    {
     "data": {
      "text/plain": [
       "0"
      ]
     },
     "execution_count": 28,
     "metadata": {
      "tags": []
     },
     "output_type": "execute_result"
    }
   ],
   "source": [
    "erie_county_data['Deaths'].min()"
   ]
  },
  {
   "cell_type": "code",
   "execution_count": null,
   "metadata": {
    "colab": {},
    "colab_type": "code",
    "id": "LgOJ6ElAho47",
    "outputId": "6e2358d8-7d39-42db-b930-6f5781be40aa"
   },
   "outputs": [
    {
     "data": {
      "image/png": "[encoded data removed]",
      "text/plain": [
       "<Figure size 2880x720 with 1 Axes>"
      ]
     },
     "metadata": {
      "needs_background": "light",
      "tags": []
     },
     "output_type": "display_data"
    }
   ],
   "source": [
    "# THe plot of cases against time in Erie County. The cases are still rising day by day, but by a small number\n",
    "plt.figure(figsize=(40,10))\n",
    "plt.plot(erie_county_data['Date'], erie_county_data['Confirmed'])\n",
    "plt.xlabel('Dates')\n",
    "plt.ylabel('Confirmed Cases in Erie County')\n",
    "plt.title('Erie County covid-19 Statistics')\n",
    "plt.xticks(rotation='vertical')\n",
    "\n",
    "plt.savefig('erie_cases.png', dpi=80)\n",
    "\n",
    "plt.show()"
   ]
  },
  {
   "cell_type": "code",
   "execution_count": null,
   "metadata": {
    "colab": {},
    "colab_type": "code",
    "id": "SzRcNWYkho5B",
    "outputId": "d4fa856c-aeac-4c25-f655-7d370b40e323"
   },
   "outputs": [
    {
     "data": {
      "image/png": "[encoded data removed]",
      "text/plain": [
       "<Figure size 2880x720 with 1 Axes>"
      ]
     },
     "metadata": {
      "needs_background": "light",
      "tags": []
     },
     "output_type": "display_data"
    }
   ],
   "source": [
    "# The graph of deaths against date. THe deaths are also increasing but by a small number\n",
    "plt.figure(figsize=(40,10))\n",
    "plt.plot(erie_county_data['Date'], erie_county_data['Deaths'])\n",
    "plt.xlabel('Dates')\n",
    "plt.ylabel('Confirmed deaths in Erie County')\n",
    "plt.title('Erie County covid-19 Statistics')\n",
    "plt.xticks(rotation='vertical')\n",
    "plt.savefig('erie_deaths.png', dpi=80)\n",
    "\n",
    "plt.show()"
   ]
  },
  {
   "cell_type": "code",
   "execution_count": null,
   "metadata": {
    "colab": {},
    "colab_type": "code",
    "id": "8YYfUh7Jho5I"
   },
   "outputs": [],
   "source": [
    "# Erie county data for june\n",
    "erie_county_june = data_ny_june[data_ny_june['Admin2']=='Erie']"
   ]
  },
  {
   "cell_type": "code",
   "execution_count": null,
   "metadata": {
    "colab": {},
    "colab_type": "code",
    "id": "99v07lzoho5P",
    "outputId": "9161a0be-6876-421e-cf38-e999eb51add4"
   },
   "outputs": [
    {
     "data": {
      "text/plain": [
       "(23, 14)"
      ]
     },
     "execution_count": 32,
     "metadata": {
      "tags": []
     },
     "output_type": "execute_result"
    }
   ],
   "source": [
    "erie_county_june.shape"
   ]
  },
  {
   "cell_type": "code",
   "execution_count": null,
   "metadata": {
    "colab": {},
    "colab_type": "code",
    "id": "7cV57ThFho5W",
    "outputId": "5a297671-a608-4c59-e8e2-7efe9260550a"
   },
   "outputs": [
    {
     "data": {
      "text/plain": [
       "7292"
      ]
     },
     "execution_count": 33,
     "metadata": {
      "tags": []
     },
     "output_type": "execute_result"
    }
   ],
   "source": [
    "erie_county_june['Confirmed'].max()"
   ]
  },
  {
   "cell_type": "code",
   "execution_count": null,
   "metadata": {
    "colab": {},
    "colab_type": "code",
    "id": "FM_DMQfwho5k",
    "outputId": "be8e35da-f250-4218-a8ab-f1212e190dd5"
   },
   "outputs": [
    {
     "data": {
      "text/plain": [
       "7292"
      ]
     },
     "execution_count": 34,
     "metadata": {
      "tags": []
     },
     "output_type": "execute_result"
    }
   ],
   "source": [
    "erie_county_june['Confirmed'].max()"
   ]
  },
  {
   "cell_type": "code",
   "execution_count": null,
   "metadata": {
    "colab": {},
    "colab_type": "code",
    "id": "aqfczMxcho5p",
    "outputId": "4223ef45-a6b2-4e8b-d87d-ac652e7f720b"
   },
   "outputs": [
    {
     "data": {
      "image/png": "[encoded data removed]",
      "text/plain": [
       "<Figure size 1440x360 with 1 Axes>"
      ]
     },
     "metadata": {
      "needs_background": "light",
      "tags": []
     },
     "output_type": "display_data"
    }
   ],
   "source": [
    "plt.figure(figsize=(20,5))\n",
    "plt.plot(erie_county_june['Date'], erie_county_june['Confirmed'])\n",
    "plt.show()"
   ]
  },
  {
   "cell_type": "code",
   "execution_count": null,
   "metadata": {
    "colab": {},
    "colab_type": "code",
    "id": "8tq2erzVho5u",
    "outputId": "68bf1da2-a9de-471e-efac-0e3ab8d797fa"
   },
   "outputs": [
    {
     "data": {
      "image/png": "[encoded data removed]",
      "text/plain": [
       "<Figure size 1440x360 with 1 Axes>"
      ]
     },
     "metadata": {
      "needs_background": "light",
      "tags": []
     },
     "output_type": "display_data"
    }
   ],
   "source": [
    "plt.figure(figsize=(20,5))\n",
    "plt.plot(erie_county_june['Date'], erie_county_june['Deaths'])\n",
    "plt.show()"
   ]
  },
  {
   "cell_type": "code",
   "execution_count": null,
   "metadata": {
    "colab": {},
    "colab_type": "code",
    "id": "y6_Ks5Gsho5y"
   },
   "outputs": [],
   "source": [
    "#Erie county data for may\n",
    "erie_may = data[(data['Province_State']=='New York') & (data['Admin2'] == 'Erie') & (data['Date']>='5/1/2020') & (data['Date']<'5/31/2020') ]"
   ]
  },
  {
   "cell_type": "code",
   "execution_count": null,
   "metadata": {
    "colab": {},
    "colab_type": "code",
    "id": "tfotyXu8ho53",
    "outputId": "7dacd1f9-00ca-41c2-dcf2-45f7fd7df8d1"
   },
   "outputs": [
    {
     "data": {
      "text/html": [
       "<div>\n",
       "<style scoped>\n",
       "    .dataframe tbody tr th:only-of-type {\n",
       "        vertical-align: middle;\n",
       "    }\n",
       "\n",
       "    .dataframe tbody tr th {\n",
       "        vertical-align: top;\n",
       "    }\n",
       "\n",
       "    .dataframe thead th {\n",
       "        text-align: right;\n",
       "    }\n",
       "</style>\n",
       "<table border=\"1\" class=\"dataframe\">\n",
       "  <thead>\n",
       "    <tr style=\"text-align: right;\">\n",
       "      <th></th>\n",
       "      <th>UID</th>\n",
       "      <th>iso2</th>\n",
       "      <th>iso3</th>\n",
       "      <th>code3</th>\n",
       "      <th>FIPS</th>\n",
       "      <th>Admin2</th>\n",
       "      <th>Province_State</th>\n",
       "      <th>Country_Region</th>\n",
       "      <th>Lat</th>\n",
       "      <th>Long_</th>\n",
       "      <th>Combined_Key</th>\n",
       "      <th>Date</th>\n",
       "      <th>Confirmed</th>\n",
       "      <th>Deaths</th>\n",
       "    </tr>\n",
       "  </thead>\n",
       "  <tbody>\n",
       "    <tr>\n",
       "      <td>331208</td>\n",
       "      <td>84036029</td>\n",
       "      <td>US</td>\n",
       "      <td>USA</td>\n",
       "      <td>840</td>\n",
       "      <td>36029.0</td>\n",
       "      <td>Erie</td>\n",
       "      <td>New York</td>\n",
       "      <td>US</td>\n",
       "      <td>42.76249</td>\n",
       "      <td>-78.730637</td>\n",
       "      <td>Erie, New York, US</td>\n",
       "      <td>5/2/20</td>\n",
       "      <td>3598</td>\n",
       "      <td>266</td>\n",
       "    </tr>\n",
       "    <tr>\n",
       "      <td>334469</td>\n",
       "      <td>84036029</td>\n",
       "      <td>US</td>\n",
       "      <td>USA</td>\n",
       "      <td>840</td>\n",
       "      <td>36029.0</td>\n",
       "      <td>Erie</td>\n",
       "      <td>New York</td>\n",
       "      <td>US</td>\n",
       "      <td>42.76249</td>\n",
       "      <td>-78.730637</td>\n",
       "      <td>Erie, New York, US</td>\n",
       "      <td>5/3/20</td>\n",
       "      <td>3710</td>\n",
       "      <td>266</td>\n",
       "    </tr>\n",
       "    <tr>\n",
       "      <td>357296</td>\n",
       "      <td>84036029</td>\n",
       "      <td>US</td>\n",
       "      <td>USA</td>\n",
       "      <td>840</td>\n",
       "      <td>36029.0</td>\n",
       "      <td>Erie</td>\n",
       "      <td>New York</td>\n",
       "      <td>US</td>\n",
       "      <td>42.76249</td>\n",
       "      <td>-78.730637</td>\n",
       "      <td>Erie, New York, US</td>\n",
       "      <td>5/10/20</td>\n",
       "      <td>4453</td>\n",
       "      <td>357</td>\n",
       "    </tr>\n",
       "    <tr>\n",
       "      <td>360557</td>\n",
       "      <td>84036029</td>\n",
       "      <td>US</td>\n",
       "      <td>USA</td>\n",
       "      <td>840</td>\n",
       "      <td>36029.0</td>\n",
       "      <td>Erie</td>\n",
       "      <td>New York</td>\n",
       "      <td>US</td>\n",
       "      <td>42.76249</td>\n",
       "      <td>-78.730637</td>\n",
       "      <td>Erie, New York, US</td>\n",
       "      <td>5/11/20</td>\n",
       "      <td>4483</td>\n",
       "      <td>357</td>\n",
       "    </tr>\n",
       "    <tr>\n",
       "      <td>363818</td>\n",
       "      <td>84036029</td>\n",
       "      <td>US</td>\n",
       "      <td>USA</td>\n",
       "      <td>840</td>\n",
       "      <td>36029.0</td>\n",
       "      <td>Erie</td>\n",
       "      <td>New York</td>\n",
       "      <td>US</td>\n",
       "      <td>42.76249</td>\n",
       "      <td>-78.730637</td>\n",
       "      <td>Erie, New York, US</td>\n",
       "      <td>5/12/20</td>\n",
       "      <td>4530</td>\n",
       "      <td>357</td>\n",
       "    </tr>\n",
       "    <tr>\n",
       "      <td>367079</td>\n",
       "      <td>84036029</td>\n",
       "      <td>US</td>\n",
       "      <td>USA</td>\n",
       "      <td>840</td>\n",
       "      <td>36029.0</td>\n",
       "      <td>Erie</td>\n",
       "      <td>New York</td>\n",
       "      <td>US</td>\n",
       "      <td>42.76249</td>\n",
       "      <td>-78.730637</td>\n",
       "      <td>Erie, New York, US</td>\n",
       "      <td>5/13/20</td>\n",
       "      <td>4606</td>\n",
       "      <td>400</td>\n",
       "    </tr>\n",
       "    <tr>\n",
       "      <td>370340</td>\n",
       "      <td>84036029</td>\n",
       "      <td>US</td>\n",
       "      <td>USA</td>\n",
       "      <td>840</td>\n",
       "      <td>36029.0</td>\n",
       "      <td>Erie</td>\n",
       "      <td>New York</td>\n",
       "      <td>US</td>\n",
       "      <td>42.76249</td>\n",
       "      <td>-78.730637</td>\n",
       "      <td>Erie, New York, US</td>\n",
       "      <td>5/14/20</td>\n",
       "      <td>4671</td>\n",
       "      <td>400</td>\n",
       "    </tr>\n",
       "    <tr>\n",
       "      <td>373601</td>\n",
       "      <td>84036029</td>\n",
       "      <td>US</td>\n",
       "      <td>USA</td>\n",
       "      <td>840</td>\n",
       "      <td>36029.0</td>\n",
       "      <td>Erie</td>\n",
       "      <td>New York</td>\n",
       "      <td>US</td>\n",
       "      <td>42.76249</td>\n",
       "      <td>-78.730637</td>\n",
       "      <td>Erie, New York, US</td>\n",
       "      <td>5/15/20</td>\n",
       "      <td>4782</td>\n",
       "      <td>411</td>\n",
       "    </tr>\n",
       "    <tr>\n",
       "      <td>376862</td>\n",
       "      <td>84036029</td>\n",
       "      <td>US</td>\n",
       "      <td>USA</td>\n",
       "      <td>840</td>\n",
       "      <td>36029.0</td>\n",
       "      <td>Erie</td>\n",
       "      <td>New York</td>\n",
       "      <td>US</td>\n",
       "      <td>42.76249</td>\n",
       "      <td>-78.730637</td>\n",
       "      <td>Erie, New York, US</td>\n",
       "      <td>5/16/20</td>\n",
       "      <td>4867</td>\n",
       "      <td>420</td>\n",
       "    </tr>\n",
       "    <tr>\n",
       "      <td>380123</td>\n",
       "      <td>84036029</td>\n",
       "      <td>US</td>\n",
       "      <td>USA</td>\n",
       "      <td>840</td>\n",
       "      <td>36029.0</td>\n",
       "      <td>Erie</td>\n",
       "      <td>New York</td>\n",
       "      <td>US</td>\n",
       "      <td>42.76249</td>\n",
       "      <td>-78.730637</td>\n",
       "      <td>Erie, New York, US</td>\n",
       "      <td>5/17/20</td>\n",
       "      <td>4954</td>\n",
       "      <td>420</td>\n",
       "    </tr>\n",
       "    <tr>\n",
       "      <td>383384</td>\n",
       "      <td>84036029</td>\n",
       "      <td>US</td>\n",
       "      <td>USA</td>\n",
       "      <td>840</td>\n",
       "      <td>36029.0</td>\n",
       "      <td>Erie</td>\n",
       "      <td>New York</td>\n",
       "      <td>US</td>\n",
       "      <td>42.76249</td>\n",
       "      <td>-78.730637</td>\n",
       "      <td>Erie, New York, US</td>\n",
       "      <td>5/18/20</td>\n",
       "      <td>4993</td>\n",
       "      <td>420</td>\n",
       "    </tr>\n",
       "    <tr>\n",
       "      <td>386645</td>\n",
       "      <td>84036029</td>\n",
       "      <td>US</td>\n",
       "      <td>USA</td>\n",
       "      <td>840</td>\n",
       "      <td>36029.0</td>\n",
       "      <td>Erie</td>\n",
       "      <td>New York</td>\n",
       "      <td>US</td>\n",
       "      <td>42.76249</td>\n",
       "      <td>-78.730637</td>\n",
       "      <td>Erie, New York, US</td>\n",
       "      <td>5/19/20</td>\n",
       "      <td>5037</td>\n",
       "      <td>449</td>\n",
       "    </tr>\n",
       "    <tr>\n",
       "      <td>389906</td>\n",
       "      <td>84036029</td>\n",
       "      <td>US</td>\n",
       "      <td>USA</td>\n",
       "      <td>840</td>\n",
       "      <td>36029.0</td>\n",
       "      <td>Erie</td>\n",
       "      <td>New York</td>\n",
       "      <td>US</td>\n",
       "      <td>42.76249</td>\n",
       "      <td>-78.730637</td>\n",
       "      <td>Erie, New York, US</td>\n",
       "      <td>5/20/20</td>\n",
       "      <td>5131</td>\n",
       "      <td>449</td>\n",
       "    </tr>\n",
       "    <tr>\n",
       "      <td>393167</td>\n",
       "      <td>84036029</td>\n",
       "      <td>US</td>\n",
       "      <td>USA</td>\n",
       "      <td>840</td>\n",
       "      <td>36029.0</td>\n",
       "      <td>Erie</td>\n",
       "      <td>New York</td>\n",
       "      <td>US</td>\n",
       "      <td>42.76249</td>\n",
       "      <td>-78.730637</td>\n",
       "      <td>Erie, New York, US</td>\n",
       "      <td>5/21/20</td>\n",
       "      <td>5270</td>\n",
       "      <td>449</td>\n",
       "    </tr>\n",
       "    <tr>\n",
       "      <td>396428</td>\n",
       "      <td>84036029</td>\n",
       "      <td>US</td>\n",
       "      <td>USA</td>\n",
       "      <td>840</td>\n",
       "      <td>36029.0</td>\n",
       "      <td>Erie</td>\n",
       "      <td>New York</td>\n",
       "      <td>US</td>\n",
       "      <td>42.76249</td>\n",
       "      <td>-78.730637</td>\n",
       "      <td>Erie, New York, US</td>\n",
       "      <td>5/22/20</td>\n",
       "      <td>5397</td>\n",
       "      <td>449</td>\n",
       "    </tr>\n",
       "    <tr>\n",
       "      <td>399689</td>\n",
       "      <td>84036029</td>\n",
       "      <td>US</td>\n",
       "      <td>USA</td>\n",
       "      <td>840</td>\n",
       "      <td>36029.0</td>\n",
       "      <td>Erie</td>\n",
       "      <td>New York</td>\n",
       "      <td>US</td>\n",
       "      <td>42.76249</td>\n",
       "      <td>-78.730637</td>\n",
       "      <td>Erie, New York, US</td>\n",
       "      <td>5/23/20</td>\n",
       "      <td>5552</td>\n",
       "      <td>480</td>\n",
       "    </tr>\n",
       "    <tr>\n",
       "      <td>402950</td>\n",
       "      <td>84036029</td>\n",
       "      <td>US</td>\n",
       "      <td>USA</td>\n",
       "      <td>840</td>\n",
       "      <td>36029.0</td>\n",
       "      <td>Erie</td>\n",
       "      <td>New York</td>\n",
       "      <td>US</td>\n",
       "      <td>42.76249</td>\n",
       "      <td>-78.730637</td>\n",
       "      <td>Erie, New York, US</td>\n",
       "      <td>5/24/20</td>\n",
       "      <td>5626</td>\n",
       "      <td>480</td>\n",
       "    </tr>\n",
       "    <tr>\n",
       "      <td>406211</td>\n",
       "      <td>84036029</td>\n",
       "      <td>US</td>\n",
       "      <td>USA</td>\n",
       "      <td>840</td>\n",
       "      <td>36029.0</td>\n",
       "      <td>Erie</td>\n",
       "      <td>New York</td>\n",
       "      <td>US</td>\n",
       "      <td>42.76249</td>\n",
       "      <td>-78.730637</td>\n",
       "      <td>Erie, New York, US</td>\n",
       "      <td>5/25/20</td>\n",
       "      <td>5700</td>\n",
       "      <td>480</td>\n",
       "    </tr>\n",
       "    <tr>\n",
       "      <td>409472</td>\n",
       "      <td>84036029</td>\n",
       "      <td>US</td>\n",
       "      <td>USA</td>\n",
       "      <td>840</td>\n",
       "      <td>36029.0</td>\n",
       "      <td>Erie</td>\n",
       "      <td>New York</td>\n",
       "      <td>US</td>\n",
       "      <td>42.76249</td>\n",
       "      <td>-78.730637</td>\n",
       "      <td>Erie, New York, US</td>\n",
       "      <td>5/26/20</td>\n",
       "      <td>5753</td>\n",
       "      <td>480</td>\n",
       "    </tr>\n",
       "    <tr>\n",
       "      <td>412733</td>\n",
       "      <td>84036029</td>\n",
       "      <td>US</td>\n",
       "      <td>USA</td>\n",
       "      <td>840</td>\n",
       "      <td>36029.0</td>\n",
       "      <td>Erie</td>\n",
       "      <td>New York</td>\n",
       "      <td>US</td>\n",
       "      <td>42.76249</td>\n",
       "      <td>-78.730637</td>\n",
       "      <td>Erie, New York, US</td>\n",
       "      <td>5/27/20</td>\n",
       "      <td>5810</td>\n",
       "      <td>504</td>\n",
       "    </tr>\n",
       "    <tr>\n",
       "      <td>415994</td>\n",
       "      <td>84036029</td>\n",
       "      <td>US</td>\n",
       "      <td>USA</td>\n",
       "      <td>840</td>\n",
       "      <td>36029.0</td>\n",
       "      <td>Erie</td>\n",
       "      <td>New York</td>\n",
       "      <td>US</td>\n",
       "      <td>42.76249</td>\n",
       "      <td>-78.730637</td>\n",
       "      <td>Erie, New York, US</td>\n",
       "      <td>5/28/20</td>\n",
       "      <td>5886</td>\n",
       "      <td>504</td>\n",
       "    </tr>\n",
       "    <tr>\n",
       "      <td>419255</td>\n",
       "      <td>84036029</td>\n",
       "      <td>US</td>\n",
       "      <td>USA</td>\n",
       "      <td>840</td>\n",
       "      <td>36029.0</td>\n",
       "      <td>Erie</td>\n",
       "      <td>New York</td>\n",
       "      <td>US</td>\n",
       "      <td>42.76249</td>\n",
       "      <td>-78.730637</td>\n",
       "      <td>Erie, New York, US</td>\n",
       "      <td>5/29/20</td>\n",
       "      <td>5935</td>\n",
       "      <td>516</td>\n",
       "    </tr>\n",
       "    <tr>\n",
       "      <td>422516</td>\n",
       "      <td>84036029</td>\n",
       "      <td>US</td>\n",
       "      <td>USA</td>\n",
       "      <td>840</td>\n",
       "      <td>36029.0</td>\n",
       "      <td>Erie</td>\n",
       "      <td>New York</td>\n",
       "      <td>US</td>\n",
       "      <td>42.76249</td>\n",
       "      <td>-78.730637</td>\n",
       "      <td>Erie, New York, US</td>\n",
       "      <td>5/30/20</td>\n",
       "      <td>6014</td>\n",
       "      <td>516</td>\n",
       "    </tr>\n",
       "    <tr>\n",
       "      <td>425777</td>\n",
       "      <td>84036029</td>\n",
       "      <td>US</td>\n",
       "      <td>USA</td>\n",
       "      <td>840</td>\n",
       "      <td>36029.0</td>\n",
       "      <td>Erie</td>\n",
       "      <td>New York</td>\n",
       "      <td>US</td>\n",
       "      <td>42.76249</td>\n",
       "      <td>-78.730637</td>\n",
       "      <td>Erie, New York, US</td>\n",
       "      <td>5/31/20</td>\n",
       "      <td>6070</td>\n",
       "      <td>516</td>\n",
       "    </tr>\n",
       "  </tbody>\n",
       "</table>\n",
       "</div>"
      ],
      "text/plain": [
       "             UID iso2 iso3  code3     FIPS Admin2 Province_State  \\\n",
       "331208  84036029   US  USA    840  36029.0   Erie       New York   \n",
       "334469  84036029   US  USA    840  36029.0   Erie       New York   \n",
       "357296  84036029   US  USA    840  36029.0   Erie       New York   \n",
       "360557  84036029   US  USA    840  36029.0   Erie       New York   \n",
       "363818  84036029   US  USA    840  36029.0   Erie       New York   \n",
       "367079  84036029   US  USA    840  36029.0   Erie       New York   \n",
       "370340  84036029   US  USA    840  36029.0   Erie       New York   \n",
       "373601  84036029   US  USA    840  36029.0   Erie       New York   \n",
       "376862  84036029   US  USA    840  36029.0   Erie       New York   \n",
       "380123  84036029   US  USA    840  36029.0   Erie       New York   \n",
       "383384  84036029   US  USA    840  36029.0   Erie       New York   \n",
       "386645  84036029   US  USA    840  36029.0   Erie       New York   \n",
       "389906  84036029   US  USA    840  36029.0   Erie       New York   \n",
       "393167  84036029   US  USA    840  36029.0   Erie       New York   \n",
       "396428  84036029   US  USA    840  36029.0   Erie       New York   \n",
       "399689  84036029   US  USA    840  36029.0   Erie       New York   \n",
       "402950  84036029   US  USA    840  36029.0   Erie       New York   \n",
       "406211  84036029   US  USA    840  36029.0   Erie       New York   \n",
       "409472  84036029   US  USA    840  36029.0   Erie       New York   \n",
       "412733  84036029   US  USA    840  36029.0   Erie       New York   \n",
       "415994  84036029   US  USA    840  36029.0   Erie       New York   \n",
       "419255  84036029   US  USA    840  36029.0   Erie       New York   \n",
       "422516  84036029   US  USA    840  36029.0   Erie       New York   \n",
       "425777  84036029   US  USA    840  36029.0   Erie       New York   \n",
       "\n",
       "       Country_Region       Lat      Long_        Combined_Key     Date  \\\n",
       "331208             US  42.76249 -78.730637  Erie, New York, US   5/2/20   \n",
       "334469             US  42.76249 -78.730637  Erie, New York, US   5/3/20   \n",
       "357296             US  42.76249 -78.730637  Erie, New York, US  5/10/20   \n",
       "360557             US  42.76249 -78.730637  Erie, New York, US  5/11/20   \n",
       "363818             US  42.76249 -78.730637  Erie, New York, US  5/12/20   \n",
       "367079             US  42.76249 -78.730637  Erie, New York, US  5/13/20   \n",
       "370340             US  42.76249 -78.730637  Erie, New York, US  5/14/20   \n",
       "373601             US  42.76249 -78.730637  Erie, New York, US  5/15/20   \n",
       "376862             US  42.76249 -78.730637  Erie, New York, US  5/16/20   \n",
       "380123             US  42.76249 -78.730637  Erie, New York, US  5/17/20   \n",
       "383384             US  42.76249 -78.730637  Erie, New York, US  5/18/20   \n",
       "386645             US  42.76249 -78.730637  Erie, New York, US  5/19/20   \n",
       "389906             US  42.76249 -78.730637  Erie, New York, US  5/20/20   \n",
       "393167             US  42.76249 -78.730637  Erie, New York, US  5/21/20   \n",
       "396428             US  42.76249 -78.730637  Erie, New York, US  5/22/20   \n",
       "399689             US  42.76249 -78.730637  Erie, New York, US  5/23/20   \n",
       "402950             US  42.76249 -78.730637  Erie, New York, US  5/24/20   \n",
       "406211             US  42.76249 -78.730637  Erie, New York, US  5/25/20   \n",
       "409472             US  42.76249 -78.730637  Erie, New York, US  5/26/20   \n",
       "412733             US  42.76249 -78.730637  Erie, New York, US  5/27/20   \n",
       "415994             US  42.76249 -78.730637  Erie, New York, US  5/28/20   \n",
       "419255             US  42.76249 -78.730637  Erie, New York, US  5/29/20   \n",
       "422516             US  42.76249 -78.730637  Erie, New York, US  5/30/20   \n",
       "425777             US  42.76249 -78.730637  Erie, New York, US  5/31/20   \n",
       "\n",
       "        Confirmed  Deaths  \n",
       "331208       3598     266  \n",
       "334469       3710     266  \n",
       "357296       4453     357  \n",
       "360557       4483     357  \n",
       "363818       4530     357  \n",
       "367079       4606     400  \n",
       "370340       4671     400  \n",
       "373601       4782     411  \n",
       "376862       4867     420  \n",
       "380123       4954     420  \n",
       "383384       4993     420  \n",
       "386645       5037     449  \n",
       "389906       5131     449  \n",
       "393167       5270     449  \n",
       "396428       5397     449  \n",
       "399689       5552     480  \n",
       "402950       5626     480  \n",
       "406211       5700     480  \n",
       "409472       5753     480  \n",
       "412733       5810     504  \n",
       "415994       5886     504  \n",
       "419255       5935     516  \n",
       "422516       6014     516  \n",
       "425777       6070     516  "
      ]
     },
     "execution_count": 38,
     "metadata": {
      "tags": []
     },
     "output_type": "execute_result"
    }
   ],
   "source": [
    "erie_may"
   ]
  },
  {
   "cell_type": "code",
   "execution_count": null,
   "metadata": {
    "colab": {},
    "colab_type": "code",
    "id": "D1fE0Z1kho58",
    "outputId": "5d8c4f9e-b4bc-45d7-a40e-c550072d5622"
   },
   "outputs": [
    {
     "data": {
      "image/png": "[encoded data removed]",
      "text/plain": [
       "<Figure size 1440x360 with 1 Axes>"
      ]
     },
     "metadata": {
      "needs_background": "light",
      "tags": []
     },
     "output_type": "display_data"
    }
   ],
   "source": [
    "plt.figure(figsize=(20,5))\n",
    "plt.plot(erie_may['Date'], erie_may['Confirmed'])\n",
    "plt.show()"
   ]
  },
  {
   "cell_type": "code",
   "execution_count": null,
   "metadata": {
    "colab": {},
    "colab_type": "code",
    "id": "SuZKaovnho6C",
    "outputId": "a4964a4d-e57b-4cbf-da30-b2386647a99b"
   },
   "outputs": [
    {
     "data": {
      "image/png": "[encoded data removed]",
      "text/plain": [
       "<Figure size 1440x360 with 1 Axes>"
      ]
     },
     "metadata": {
      "needs_background": "light",
      "tags": []
     },
     "output_type": "display_data"
    }
   ],
   "source": [
    "plt.figure(figsize=(20,5))\n",
    "plt.plot(erie_may['Date'], erie_may['Deaths'])\n",
    "plt.show()"
   ]
  },
  {
   "cell_type": "markdown",
   "metadata": {
    "colab_type": "text",
    "id": "GsJ6y05Zho6I"
   },
   "source": [
    "# Part 2: Machine learning models:\n",
    "\n",
    "In this part, we use machine learning models on the NY cases dataset. The selction of features is quite tricky but I selected the county id and the number of confirmed cases to predict the number of death cases in a particular county. I trained 5 regression models for the above problem.\n",
    "\n",
    "\n",
    "\n",
    "\n"
   ]
  },
  {
   "cell_type": "code",
   "execution_count": null,
   "metadata": {
    "colab": {},
    "colab_type": "code",
    "id": "35oyka9Who6J",
    "outputId": "3c150ead-7f9b-425b-b382-049c37c800f0"
   },
   "outputs": [
    {
     "data": {
      "text/plain": [
       "(10944, 14)"
      ]
     },
     "execution_count": 41,
     "metadata": {
      "tags": []
     },
     "output_type": "execute_result"
    }
   ],
   "source": [
    "data_ny.shape"
   ]
  },
  {
   "cell_type": "code",
   "execution_count": null,
   "metadata": {
    "colab": {},
    "colab_type": "code",
    "id": "IKX4sCYaho6R",
    "outputId": "b0cb9ce9-e577-43a9-89af-7a5f63c71bb2"
   },
   "outputs": [
    {
     "data": {
      "text/html": [
       "<div>\n",
       "<style scoped>\n",
       "    .dataframe tbody tr th:only-of-type {\n",
       "        vertical-align: middle;\n",
       "    }\n",
       "\n",
       "    .dataframe tbody tr th {\n",
       "        vertical-align: top;\n",
       "    }\n",
       "\n",
       "    .dataframe thead th {\n",
       "        text-align: right;\n",
       "    }\n",
       "</style>\n",
       "<table border=\"1\" class=\"dataframe\">\n",
       "  <thead>\n",
       "    <tr style=\"text-align: right;\">\n",
       "      <th></th>\n",
       "      <th>UID</th>\n",
       "      <th>iso2</th>\n",
       "      <th>iso3</th>\n",
       "      <th>code3</th>\n",
       "      <th>FIPS</th>\n",
       "      <th>Admin2</th>\n",
       "      <th>Province_State</th>\n",
       "      <th>Country_Region</th>\n",
       "      <th>Lat</th>\n",
       "      <th>Long_</th>\n",
       "      <th>Combined_Key</th>\n",
       "      <th>Date</th>\n",
       "      <th>Confirmed</th>\n",
       "      <th>Deaths</th>\n",
       "    </tr>\n",
       "  </thead>\n",
       "  <tbody>\n",
       "    <tr>\n",
       "      <td>1833</td>\n",
       "      <td>84036001</td>\n",
       "      <td>US</td>\n",
       "      <td>USA</td>\n",
       "      <td>840</td>\n",
       "      <td>36001.0</td>\n",
       "      <td>Albany</td>\n",
       "      <td>New York</td>\n",
       "      <td>US</td>\n",
       "      <td>42.600603</td>\n",
       "      <td>-73.977239</td>\n",
       "      <td>Albany, New York, US</td>\n",
       "      <td>1/22/20</td>\n",
       "      <td>0</td>\n",
       "      <td>0</td>\n",
       "    </tr>\n",
       "    <tr>\n",
       "      <td>1834</td>\n",
       "      <td>84036003</td>\n",
       "      <td>US</td>\n",
       "      <td>USA</td>\n",
       "      <td>840</td>\n",
       "      <td>36003.0</td>\n",
       "      <td>Allegany</td>\n",
       "      <td>New York</td>\n",
       "      <td>US</td>\n",
       "      <td>42.257484</td>\n",
       "      <td>-78.027505</td>\n",
       "      <td>Allegany, New York, US</td>\n",
       "      <td>1/22/20</td>\n",
       "      <td>0</td>\n",
       "      <td>0</td>\n",
       "    </tr>\n",
       "    <tr>\n",
       "      <td>1835</td>\n",
       "      <td>84036005</td>\n",
       "      <td>US</td>\n",
       "      <td>USA</td>\n",
       "      <td>840</td>\n",
       "      <td>36005.0</td>\n",
       "      <td>Bronx</td>\n",
       "      <td>New York</td>\n",
       "      <td>US</td>\n",
       "      <td>40.852093</td>\n",
       "      <td>-73.862828</td>\n",
       "      <td>Bronx, New York, US</td>\n",
       "      <td>1/22/20</td>\n",
       "      <td>0</td>\n",
       "      <td>0</td>\n",
       "    </tr>\n",
       "    <tr>\n",
       "      <td>1836</td>\n",
       "      <td>84036007</td>\n",
       "      <td>US</td>\n",
       "      <td>USA</td>\n",
       "      <td>840</td>\n",
       "      <td>36007.0</td>\n",
       "      <td>Broome</td>\n",
       "      <td>New York</td>\n",
       "      <td>US</td>\n",
       "      <td>42.159032</td>\n",
       "      <td>-75.813261</td>\n",
       "      <td>Broome, New York, US</td>\n",
       "      <td>1/22/20</td>\n",
       "      <td>0</td>\n",
       "      <td>0</td>\n",
       "    </tr>\n",
       "    <tr>\n",
       "      <td>1837</td>\n",
       "      <td>84036009</td>\n",
       "      <td>US</td>\n",
       "      <td>USA</td>\n",
       "      <td>840</td>\n",
       "      <td>36009.0</td>\n",
       "      <td>Cattaraugus</td>\n",
       "      <td>New York</td>\n",
       "      <td>US</td>\n",
       "      <td>42.247782</td>\n",
       "      <td>-78.679231</td>\n",
       "      <td>Cattaraugus, New York, US</td>\n",
       "      <td>1/22/20</td>\n",
       "      <td>0</td>\n",
       "      <td>0</td>\n",
       "    </tr>\n",
       "    <tr>\n",
       "      <td>1838</td>\n",
       "      <td>84036011</td>\n",
       "      <td>US</td>\n",
       "      <td>USA</td>\n",
       "      <td>840</td>\n",
       "      <td>36011.0</td>\n",
       "      <td>Cayuga</td>\n",
       "      <td>New York</td>\n",
       "      <td>US</td>\n",
       "      <td>42.912617</td>\n",
       "      <td>-76.557316</td>\n",
       "      <td>Cayuga, New York, US</td>\n",
       "      <td>1/22/20</td>\n",
       "      <td>0</td>\n",
       "      <td>0</td>\n",
       "    </tr>\n",
       "    <tr>\n",
       "      <td>1839</td>\n",
       "      <td>84036013</td>\n",
       "      <td>US</td>\n",
       "      <td>USA</td>\n",
       "      <td>840</td>\n",
       "      <td>36013.0</td>\n",
       "      <td>Chautauqua</td>\n",
       "      <td>New York</td>\n",
       "      <td>US</td>\n",
       "      <td>42.227692</td>\n",
       "      <td>-79.366918</td>\n",
       "      <td>Chautauqua, New York, US</td>\n",
       "      <td>1/22/20</td>\n",
       "      <td>0</td>\n",
       "      <td>0</td>\n",
       "    </tr>\n",
       "    <tr>\n",
       "      <td>1840</td>\n",
       "      <td>84036015</td>\n",
       "      <td>US</td>\n",
       "      <td>USA</td>\n",
       "      <td>840</td>\n",
       "      <td>36015.0</td>\n",
       "      <td>Chemung</td>\n",
       "      <td>New York</td>\n",
       "      <td>US</td>\n",
       "      <td>42.138911</td>\n",
       "      <td>-76.763880</td>\n",
       "      <td>Chemung, New York, US</td>\n",
       "      <td>1/22/20</td>\n",
       "      <td>0</td>\n",
       "      <td>0</td>\n",
       "    </tr>\n",
       "    <tr>\n",
       "      <td>1841</td>\n",
       "      <td>84036017</td>\n",
       "      <td>US</td>\n",
       "      <td>USA</td>\n",
       "      <td>840</td>\n",
       "      <td>36017.0</td>\n",
       "      <td>Chenango</td>\n",
       "      <td>New York</td>\n",
       "      <td>US</td>\n",
       "      <td>42.494300</td>\n",
       "      <td>-75.608876</td>\n",
       "      <td>Chenango, New York, US</td>\n",
       "      <td>1/22/20</td>\n",
       "      <td>0</td>\n",
       "      <td>0</td>\n",
       "    </tr>\n",
       "    <tr>\n",
       "      <td>1842</td>\n",
       "      <td>84036019</td>\n",
       "      <td>US</td>\n",
       "      <td>USA</td>\n",
       "      <td>840</td>\n",
       "      <td>36019.0</td>\n",
       "      <td>Clinton</td>\n",
       "      <td>New York</td>\n",
       "      <td>US</td>\n",
       "      <td>44.745309</td>\n",
       "      <td>-73.678754</td>\n",
       "      <td>Clinton, New York, US</td>\n",
       "      <td>1/22/20</td>\n",
       "      <td>0</td>\n",
       "      <td>0</td>\n",
       "    </tr>\n",
       "  </tbody>\n",
       "</table>\n",
       "</div>"
      ],
      "text/plain": [
       "           UID iso2 iso3  code3     FIPS       Admin2 Province_State  \\\n",
       "1833  84036001   US  USA    840  36001.0       Albany       New York   \n",
       "1834  84036003   US  USA    840  36003.0     Allegany       New York   \n",
       "1835  84036005   US  USA    840  36005.0        Bronx       New York   \n",
       "1836  84036007   US  USA    840  36007.0       Broome       New York   \n",
       "1837  84036009   US  USA    840  36009.0  Cattaraugus       New York   \n",
       "1838  84036011   US  USA    840  36011.0       Cayuga       New York   \n",
       "1839  84036013   US  USA    840  36013.0   Chautauqua       New York   \n",
       "1840  84036015   US  USA    840  36015.0      Chemung       New York   \n",
       "1841  84036017   US  USA    840  36017.0     Chenango       New York   \n",
       "1842  84036019   US  USA    840  36019.0      Clinton       New York   \n",
       "\n",
       "     Country_Region        Lat      Long_               Combined_Key     Date  \\\n",
       "1833             US  42.600603 -73.977239       Albany, New York, US  1/22/20   \n",
       "1834             US  42.257484 -78.027505     Allegany, New York, US  1/22/20   \n",
       "1835             US  40.852093 -73.862828        Bronx, New York, US  1/22/20   \n",
       "1836             US  42.159032 -75.813261       Broome, New York, US  1/22/20   \n",
       "1837             US  42.247782 -78.679231  Cattaraugus, New York, US  1/22/20   \n",
       "1838             US  42.912617 -76.557316       Cayuga, New York, US  1/22/20   \n",
       "1839             US  42.227692 -79.366918   Chautauqua, New York, US  1/22/20   \n",
       "1840             US  42.138911 -76.763880      Chemung, New York, US  1/22/20   \n",
       "1841             US  42.494300 -75.608876     Chenango, New York, US  1/22/20   \n",
       "1842             US  44.745309 -73.678754      Clinton, New York, US  1/22/20   \n",
       "\n",
       "      Confirmed  Deaths  \n",
       "1833          0       0  \n",
       "1834          0       0  \n",
       "1835          0       0  \n",
       "1836          0       0  \n",
       "1837          0       0  \n",
       "1838          0       0  \n",
       "1839          0       0  \n",
       "1840          0       0  \n",
       "1841          0       0  \n",
       "1842          0       0  "
      ]
     },
     "execution_count": 42,
     "metadata": {
      "tags": []
     },
     "output_type": "execute_result"
    }
   ],
   "source": [
    "data_ny.head(10)\n",
    "#data_ny.drop('UID','iso2')"
   ]
  },
  {
   "cell_type": "code",
   "execution_count": null,
   "metadata": {
    "colab": {},
    "colab_type": "code",
    "id": "jt6vFzjoho6X"
   },
   "outputs": [],
   "source": [
    "data_ny = data_ny.drop(['UID','iso2','iso3','code3','Country_Region','Lat','Long_','Combined_Key','Province_State'],axis = 1)"
   ]
  },
  {
   "cell_type": "code",
   "execution_count": null,
   "metadata": {
    "colab": {},
    "colab_type": "code",
    "id": "wLaAzF3kho6c",
    "outputId": "0a0d3e27-c3b5-41c9-bdcd-d4890d0ab5d8"
   },
   "outputs": [
    {
     "data": {
      "text/html": [
       "<div>\n",
       "<style scoped>\n",
       "    .dataframe tbody tr th:only-of-type {\n",
       "        vertical-align: middle;\n",
       "    }\n",
       "\n",
       "    .dataframe tbody tr th {\n",
       "        vertical-align: top;\n",
       "    }\n",
       "\n",
       "    .dataframe thead th {\n",
       "        text-align: right;\n",
       "    }\n",
       "</style>\n",
       "<table border=\"1\" class=\"dataframe\">\n",
       "  <thead>\n",
       "    <tr style=\"text-align: right;\">\n",
       "      <th></th>\n",
       "      <th>FIPS</th>\n",
       "      <th>Admin2</th>\n",
       "      <th>Date</th>\n",
       "      <th>Confirmed</th>\n",
       "      <th>Deaths</th>\n",
       "    </tr>\n",
       "  </thead>\n",
       "  <tbody>\n",
       "    <tr>\n",
       "      <td>1833</td>\n",
       "      <td>36001.0</td>\n",
       "      <td>Albany</td>\n",
       "      <td>1/22/20</td>\n",
       "      <td>0</td>\n",
       "      <td>0</td>\n",
       "    </tr>\n",
       "    <tr>\n",
       "      <td>1834</td>\n",
       "      <td>36003.0</td>\n",
       "      <td>Allegany</td>\n",
       "      <td>1/22/20</td>\n",
       "      <td>0</td>\n",
       "      <td>0</td>\n",
       "    </tr>\n",
       "    <tr>\n",
       "      <td>1835</td>\n",
       "      <td>36005.0</td>\n",
       "      <td>Bronx</td>\n",
       "      <td>1/22/20</td>\n",
       "      <td>0</td>\n",
       "      <td>0</td>\n",
       "    </tr>\n",
       "    <tr>\n",
       "      <td>1836</td>\n",
       "      <td>36007.0</td>\n",
       "      <td>Broome</td>\n",
       "      <td>1/22/20</td>\n",
       "      <td>0</td>\n",
       "      <td>0</td>\n",
       "    </tr>\n",
       "    <tr>\n",
       "      <td>1837</td>\n",
       "      <td>36009.0</td>\n",
       "      <td>Cattaraugus</td>\n",
       "      <td>1/22/20</td>\n",
       "      <td>0</td>\n",
       "      <td>0</td>\n",
       "    </tr>\n",
       "    <tr>\n",
       "      <td>...</td>\n",
       "      <td>...</td>\n",
       "      <td>...</td>\n",
       "      <td>...</td>\n",
       "      <td>...</td>\n",
       "      <td>...</td>\n",
       "    </tr>\n",
       "    <tr>\n",
       "      <td>556262</td>\n",
       "      <td>36119.0</td>\n",
       "      <td>Westchester</td>\n",
       "      <td>7/10/20</td>\n",
       "      <td>35226</td>\n",
       "      <td>1433</td>\n",
       "    </tr>\n",
       "    <tr>\n",
       "      <td>556263</td>\n",
       "      <td>36121.0</td>\n",
       "      <td>Wyoming</td>\n",
       "      <td>7/10/20</td>\n",
       "      <td>101</td>\n",
       "      <td>5</td>\n",
       "    </tr>\n",
       "    <tr>\n",
       "      <td>556264</td>\n",
       "      <td>36123.0</td>\n",
       "      <td>Yates</td>\n",
       "      <td>7/10/20</td>\n",
       "      <td>48</td>\n",
       "      <td>6</td>\n",
       "    </tr>\n",
       "    <tr>\n",
       "      <td>557549</td>\n",
       "      <td>80036.0</td>\n",
       "      <td>Out of NY</td>\n",
       "      <td>7/10/20</td>\n",
       "      <td>0</td>\n",
       "      <td>0</td>\n",
       "    </tr>\n",
       "    <tr>\n",
       "      <td>557601</td>\n",
       "      <td>90036.0</td>\n",
       "      <td>Unassigned</td>\n",
       "      <td>7/10/20</td>\n",
       "      <td>0</td>\n",
       "      <td>0</td>\n",
       "    </tr>\n",
       "  </tbody>\n",
       "</table>\n",
       "<p>10944 rows × 5 columns</p>\n",
       "</div>"
      ],
      "text/plain": [
       "           FIPS       Admin2     Date  Confirmed  Deaths\n",
       "1833    36001.0       Albany  1/22/20          0       0\n",
       "1834    36003.0     Allegany  1/22/20          0       0\n",
       "1835    36005.0        Bronx  1/22/20          0       0\n",
       "1836    36007.0       Broome  1/22/20          0       0\n",
       "1837    36009.0  Cattaraugus  1/22/20          0       0\n",
       "...         ...          ...      ...        ...     ...\n",
       "556262  36119.0  Westchester  7/10/20      35226    1433\n",
       "556263  36121.0      Wyoming  7/10/20        101       5\n",
       "556264  36123.0        Yates  7/10/20         48       6\n",
       "557549  80036.0    Out of NY  7/10/20          0       0\n",
       "557601  90036.0   Unassigned  7/10/20          0       0\n",
       "\n",
       "[10944 rows x 5 columns]"
      ]
     },
     "execution_count": 44,
     "metadata": {
      "tags": []
     },
     "output_type": "execute_result"
    }
   ],
   "source": [
    "data_ny"
   ]
  },
  {
   "cell_type": "code",
   "execution_count": null,
   "metadata": {
    "colab": {},
    "colab_type": "code",
    "id": "MYPxfgFbho6l"
   },
   "outputs": [],
   "source": [
    "#len(data_ny['Date'].unique())"
   ]
  },
  {
   "cell_type": "code",
   "execution_count": null,
   "metadata": {
    "colab": {},
    "colab_type": "code",
    "id": "VINMekvUho6t",
    "outputId": "af531cbf-9260-401c-db02-0b7efa535cac"
   },
   "outputs": [
    {
     "data": {
      "image/png": "[encoded data removed]",
      "text/plain": [
       "<Figure size 432x288 with 2 Axes>"
      ]
     },
     "metadata": {
      "needs_background": "light",
      "tags": []
     },
     "output_type": "display_data"
    }
   ],
   "source": [
    "corr = data_ny.corr()\n",
    "ax = sns.heatmap(\n",
    "    corr, \n",
    "    vmin=-1, vmax=1, center=0,\n",
    "    cmap=sns.diverging_palette(20, 220, n=200),\n",
    "    square=True,\n",
    "    annot = True\n",
    ")\n",
    "ax.set_xticklabels(\n",
    "    ax.get_xticklabels(),\n",
    "    rotation=45,\n",
    "    horizontalalignment='right'\n",
    ");"
   ]
  },
  {
   "cell_type": "code",
   "execution_count": null,
   "metadata": {
    "colab": {},
    "colab_type": "code",
    "id": "nxI3O25xho61"
   },
   "outputs": [],
   "source": [
    "#import datetime as dt\n",
    "#data_ny['Date'] = pd.to_datetime(data_ny['Date'])\n",
    "#data_ny['Date']=data_ny['Date'].map(dt.datetime.toordinal)"
   ]
  },
  {
   "cell_type": "code",
   "execution_count": null,
   "metadata": {
    "colab": {},
    "colab_type": "code",
    "id": "-r4BR-Pbho67"
   },
   "outputs": [],
   "source": [
    "#data_ny"
   ]
  },
  {
   "cell_type": "code",
   "execution_count": null,
   "metadata": {
    "colab": {},
    "colab_type": "code",
    "id": "sAeFYeFKho6_"
   },
   "outputs": [],
   "source": [
    "#len(data_ny['Date'].unique())"
   ]
  },
  {
   "cell_type": "code",
   "execution_count": null,
   "metadata": {
    "colab": {},
    "colab_type": "code",
    "id": "qS2QlsTvho7E",
    "outputId": "06870cc5-51d9-4ef1-e466-a19052dae2dc"
   },
   "outputs": [
    {
     "data": {
      "image/png": "[encoded data removed]",
      "text/plain": [
       "<Figure size 432x288 with 2 Axes>"
      ]
     },
     "metadata": {
      "needs_background": "light",
      "tags": []
     },
     "output_type": "display_data"
    }
   ],
   "source": [
    "corr = data_ny.corr()\n",
    "ax = sns.heatmap(\n",
    "    corr, \n",
    "    vmin=-1, vmax=1, center=0,\n",
    "    cmap=sns.diverging_palette(20, 220, n=200),\n",
    "    square=True,\n",
    "    annot = True\n",
    ")\n",
    "ax.set_xticklabels(\n",
    "    ax.get_xticklabels(),\n",
    "    rotation=45,\n",
    "    horizontalalignment='right'\n",
    ");"
   ]
  },
  {
   "cell_type": "code",
   "execution_count": null,
   "metadata": {
    "colab": {},
    "colab_type": "code",
    "id": "TVb2yMOeho7I"
   },
   "outputs": [],
   "source": [
    "feature_cols=['FIPS','Confirmed']\n",
    "X = data_ny[feature_cols]"
   ]
  },
  {
   "cell_type": "code",
   "execution_count": null,
   "metadata": {
    "colab": {},
    "colab_type": "code",
    "id": "Ue2sBl6Aho7L",
    "outputId": "abaddbd7-b314-4ccd-df79-416e858c798e"
   },
   "outputs": [
    {
     "data": {
      "text/html": [
       "<div>\n",
       "<style scoped>\n",
       "    .dataframe tbody tr th:only-of-type {\n",
       "        vertical-align: middle;\n",
       "    }\n",
       "\n",
       "    .dataframe tbody tr th {\n",
       "        vertical-align: top;\n",
       "    }\n",
       "\n",
       "    .dataframe thead th {\n",
       "        text-align: right;\n",
       "    }\n",
       "</style>\n",
       "<table border=\"1\" class=\"dataframe\">\n",
       "  <thead>\n",
       "    <tr style=\"text-align: right;\">\n",
       "      <th></th>\n",
       "      <th>FIPS</th>\n",
       "      <th>Confirmed</th>\n",
       "    </tr>\n",
       "  </thead>\n",
       "  <tbody>\n",
       "    <tr>\n",
       "      <td>1833</td>\n",
       "      <td>36001.0</td>\n",
       "      <td>0</td>\n",
       "    </tr>\n",
       "    <tr>\n",
       "      <td>1834</td>\n",
       "      <td>36003.0</td>\n",
       "      <td>0</td>\n",
       "    </tr>\n",
       "    <tr>\n",
       "      <td>1835</td>\n",
       "      <td>36005.0</td>\n",
       "      <td>0</td>\n",
       "    </tr>\n",
       "    <tr>\n",
       "      <td>1836</td>\n",
       "      <td>36007.0</td>\n",
       "      <td>0</td>\n",
       "    </tr>\n",
       "    <tr>\n",
       "      <td>1837</td>\n",
       "      <td>36009.0</td>\n",
       "      <td>0</td>\n",
       "    </tr>\n",
       "    <tr>\n",
       "      <td>...</td>\n",
       "      <td>...</td>\n",
       "      <td>...</td>\n",
       "    </tr>\n",
       "    <tr>\n",
       "      <td>556262</td>\n",
       "      <td>36119.0</td>\n",
       "      <td>35226</td>\n",
       "    </tr>\n",
       "    <tr>\n",
       "      <td>556263</td>\n",
       "      <td>36121.0</td>\n",
       "      <td>101</td>\n",
       "    </tr>\n",
       "    <tr>\n",
       "      <td>556264</td>\n",
       "      <td>36123.0</td>\n",
       "      <td>48</td>\n",
       "    </tr>\n",
       "    <tr>\n",
       "      <td>557549</td>\n",
       "      <td>80036.0</td>\n",
       "      <td>0</td>\n",
       "    </tr>\n",
       "    <tr>\n",
       "      <td>557601</td>\n",
       "      <td>90036.0</td>\n",
       "      <td>0</td>\n",
       "    </tr>\n",
       "  </tbody>\n",
       "</table>\n",
       "<p>10944 rows × 2 columns</p>\n",
       "</div>"
      ],
      "text/plain": [
       "           FIPS  Confirmed\n",
       "1833    36001.0          0\n",
       "1834    36003.0          0\n",
       "1835    36005.0          0\n",
       "1836    36007.0          0\n",
       "1837    36009.0          0\n",
       "...         ...        ...\n",
       "556262  36119.0      35226\n",
       "556263  36121.0        101\n",
       "556264  36123.0         48\n",
       "557549  80036.0          0\n",
       "557601  90036.0          0\n",
       "\n",
       "[10944 rows x 2 columns]"
      ]
     },
     "execution_count": 52,
     "metadata": {
      "tags": []
     },
     "output_type": "execute_result"
    }
   ],
   "source": [
    "X"
   ]
  },
  {
   "cell_type": "code",
   "execution_count": null,
   "metadata": {
    "colab": {},
    "colab_type": "code",
    "id": "VNVb0w_Gho7X",
    "outputId": "59cad901-638f-483f-c8c0-9334c7e93b31"
   },
   "outputs": [
    {
     "data": {
      "text/plain": [
       "1833         0\n",
       "1834         0\n",
       "1835         0\n",
       "1836         0\n",
       "1837         0\n",
       "          ... \n",
       "556262    1433\n",
       "556263       5\n",
       "556264       6\n",
       "557549       0\n",
       "557601       0\n",
       "Name: Deaths, Length: 10944, dtype: int64"
      ]
     },
     "execution_count": 53,
     "metadata": {
      "tags": []
     },
     "output_type": "execute_result"
    }
   ],
   "source": [
    "y = data_ny['Deaths']\n",
    "y"
   ]
  },
  {
   "cell_type": "code",
   "execution_count": null,
   "metadata": {
    "colab": {},
    "colab_type": "code",
    "id": "zTbY2W8nho7i"
   },
   "outputs": [],
   "source": [
    "#Spliting the data into training and test set\n",
    "X_train,X_test,y_train,y_test = train_test_split(X,y,test_size = 0.2,random_state=1)"
   ]
  },
  {
   "cell_type": "code",
   "execution_count": null,
   "metadata": {
    "colab": {},
    "colab_type": "code",
    "id": "6LmAEVAvho7p",
    "outputId": "c2f541ee-1a4d-4ab8-b364-7bd3bb37a937"
   },
   "outputs": [
    {
     "data": {
      "text/plain": [
       "(2189, 2)"
      ]
     },
     "execution_count": 55,
     "metadata": {
      "tags": []
     },
     "output_type": "execute_result"
    }
   ],
   "source": [
    "X_test.shape"
   ]
  },
  {
   "cell_type": "code",
   "execution_count": null,
   "metadata": {
    "colab": {},
    "colab_type": "code",
    "id": "Gg7_LKXVho7w",
    "outputId": "fe5032d1-d2bc-481c-de0b-d802a7c7fe2a"
   },
   "outputs": [
    {
     "data": {
      "text/plain": [
       "(2189,)"
      ]
     },
     "execution_count": 56,
     "metadata": {
      "tags": []
     },
     "output_type": "execute_result"
    }
   ],
   "source": [
    "\n",
    "y_test.shape"
   ]
  },
  {
   "cell_type": "code",
   "execution_count": null,
   "metadata": {
    "colab": {},
    "colab_type": "code",
    "id": "vtnyMAb0ho71"
   },
   "outputs": [],
   "source": [
    "#Normalizing the data\n",
    "sc_X = StandardScaler()\n",
    "X_train = sc_X.fit_transform(X_train)\n",
    "X_test = sc_X.transform(X_test)\n"
   ]
  },
  {
   "cell_type": "code",
   "execution_count": null,
   "metadata": {
    "colab": {},
    "colab_type": "code",
    "id": "PMSA3Rs-ho75",
    "outputId": "5b719e13-492e-4179-cb6c-e86eca78ad67"
   },
   "outputs": [
    {
     "data": {
      "text/plain": [
       "(2189,)"
      ]
     },
     "execution_count": 58,
     "metadata": {
      "tags": []
     },
     "output_type": "execute_result"
    }
   ],
   "source": [
    "y_test.shape"
   ]
  },
  {
   "cell_type": "code",
   "execution_count": null,
   "metadata": {
    "colab": {},
    "colab_type": "code",
    "id": "QCvJsKwjho79",
    "outputId": "ad688406-364a-4850-dc45-5067c27090d9"
   },
   "outputs": [
    {
     "data": {
      "text/plain": [
       "(2189, 2)"
      ]
     },
     "execution_count": 59,
     "metadata": {
      "tags": []
     },
     "output_type": "execute_result"
    }
   ],
   "source": [
    "X_test.shape"
   ]
  },
  {
   "cell_type": "code",
   "execution_count": null,
   "metadata": {
    "colab": {},
    "colab_type": "code",
    "id": "slEOMqq0ho8B",
    "outputId": "9614363d-1a92-42b3-f3a3-e76bf06c7c02"
   },
   "outputs": [
    {
     "name": "stdout",
     "output_type": "stream",
     "text": [
      "Linear Regression Score: 0.9599383721070465\n"
     ]
    }
   ],
   "source": [
    "#Using sklearns linear regression model\n",
    "regressor = LinearRegression()\n",
    "regressor.fit(X_train, y_train)\n",
    "linear_regression_score = regressor.score(X_test, y_test)\n",
    "print(\"Linear Regression Score:\", linear_regression_score)"
   ]
  },
  {
   "cell_type": "code",
   "execution_count": null,
   "metadata": {
    "colab": {},
    "colab_type": "code",
    "id": "aJXy-EZLho8F",
    "outputId": "7a9af2ca-7c3c-4067-81f5-30a3fc6f7254"
   },
   "outputs": [
    {
     "name": "stdout",
     "output_type": "stream",
     "text": [
      "DT Score: 0.9994263184777422\n"
     ]
    }
   ],
   "source": [
    "#Using sklearns Decision tree regressor model\n",
    "regressor = DecisionTreeRegressor(random_state = 0)\n",
    "regressor.fit(X_train, y_train)\n",
    "tree_score = regressor.score(X_test, y_test)\n",
    "print(\"DT Score:\", regressor.score(X_test, y_test))"
   ]
  },
  {
   "cell_type": "code",
   "execution_count": null,
   "metadata": {
    "colab": {},
    "colab_type": "code",
    "id": "B6VdUpkAho8K",
    "outputId": "70b22a55-bcfc-431f-9878-8a0a300bb55a"
   },
   "outputs": [
    {
     "name": "stdout",
     "output_type": "stream",
     "text": [
      "RF Score: 0.9996224487738364\n"
     ]
    }
   ],
   "source": [
    "#Using sklearns Random forest regressor model \n",
    "regressor = RandomForestRegressor(n_estimators = 10, random_state = 0)\n",
    "regressor.fit(X_train, y_train)\n",
    "forest_score = regressor.score(X_test, y_test)\n",
    "print(\"RF Score:\", regressor.score(X_test, y_test))"
   ]
  },
  {
   "cell_type": "code",
   "execution_count": null,
   "metadata": {
    "colab": {},
    "colab_type": "code",
    "id": "LIO459diho8N",
    "outputId": "b2b2bc1b-ca53-4441-f3fa-d9b83fef5ac4"
   },
   "outputs": [
    {
     "name": "stdout",
     "output_type": "stream",
     "text": [
      "Poly Score: 0.9856681149443347\n"
     ]
    }
   ],
   "source": [
    "#Using plynomial regression using polynomial features\n",
    "poly_reg = PolynomialFeatures(degree = 5)\n",
    "X_poly = poly_reg.fit_transform(X_train)\n",
    "regressor = LinearRegression()\n",
    "regressor.fit(X_poly, y_train)\n",
    "poly_score = regressor.score(poly_reg.transform(X_test), y_test)\n",
    "print(\"Poly Score:\", regressor.score(poly_reg.transform(X_test), y_test))"
   ]
  },
  {
   "cell_type": "code",
   "execution_count": null,
   "metadata": {
    "colab": {},
    "colab_type": "code",
    "id": "q4Zhea-Kho8R",
    "outputId": "7f3141da-9b58-40e9-d7ce-305b84fdbba6"
   },
   "outputs": [
    {
     "name": "stdout",
     "output_type": "stream",
     "text": [
      "MLP Regressor Score: 0.9970840042842543\n"
     ]
    }
   ],
   "source": [
    "# using sklearns MLP Regressor model\n",
    "\n",
    "clf = MLPRegressor(max_iter=10000)\n",
    "clf.fit(X_train, np.asarray(y_train).ravel())\n",
    "mlp_regressor_score = clf.score(X_test, y_test)\n",
    "print('MLP Regressor Score:', mlp_regressor_score)"
   ]
  },
  {
   "cell_type": "code",
   "execution_count": null,
   "metadata": {
    "colab": {},
    "colab_type": "code",
    "id": "mSVtLNB5ho8V",
    "outputId": "8eb63590-71dc-4513-94f5-34aa4a2cd078"
   },
   "outputs": [
    {
     "data": {
      "image/png": "[encoded data removed]",
      "text/plain": [
       "<Figure size 1080x720 with 1 Axes>"
      ]
     },
     "metadata": {
      "needs_background": "light",
      "tags": []
     },
     "output_type": "display_data"
    }
   ],
   "source": [
    "# Representing the accuracy of various models on a bar graph\n",
    "objects = ('Linear Regression' , 'Decision Tree Regressor', 'Random_forest', 'Polynomial_Regression','MLP regressor')\n",
    "scores = [linear_regression_score, tree_score, forest_score, poly_score,mlp_regressor_score]\n",
    "plt.figure(figsize=(15, 10))\n",
    "plt.bar(objects, scores, align='center', alpha=1.0)\n",
    "plt.xticks(objects)\n",
    "plt.xlabel('Models')\n",
    "plt.ylabel('Accuracy')\n",
    "plt.title('Accuracy of Different Models')\n",
    "plt.show()"
   ]
  },
  {
   "cell_type": "markdown",
   "metadata": {
    "colab_type": "text",
    "id": "0qRumCirndzr"
   },
   "source": [
    "# Part 3: Correlation between different dataset\n",
    "\n",
    "For this part, I chose to calculate the correlation between the confirmed cases and the unemployment rate for the month of may across USA. I got some interesting results int he end which i try my best to explain. I got the unemployment rate data from https://www.bls.gov/web/laus/lauhsthl.htm. "
   ]
  },
  {
   "cell_type": "code",
   "execution_count": null,
   "metadata": {
    "colab": {},
    "colab_type": "code",
    "id": "CkhMN_YJho8a"
   },
   "outputs": [],
   "source": [
    "# Getting the may data\n",
    "data_may = data[(data['Date']>='5/1/2020') & (data['Date']<='5/31/2020')]"
   ]
  },
  {
   "cell_type": "code",
   "execution_count": null,
   "metadata": {
    "colab": {},
    "colab_type": "code",
    "id": "tKPcjdIWho8d",
    "outputId": "779426e7-ee17-4003-9de9-cc4f44db06b2"
   },
   "outputs": [
    {
     "data": {
      "text/html": [
       "<div>\n",
       "<style scoped>\n",
       "    .dataframe tbody tr th:only-of-type {\n",
       "        vertical-align: middle;\n",
       "    }\n",
       "\n",
       "    .dataframe tbody tr th {\n",
       "        vertical-align: top;\n",
       "    }\n",
       "\n",
       "    .dataframe thead th {\n",
       "        text-align: right;\n",
       "    }\n",
       "</style>\n",
       "<table border=\"1\" class=\"dataframe\">\n",
       "  <thead>\n",
       "    <tr style=\"text-align: right;\">\n",
       "      <th></th>\n",
       "      <th>UID</th>\n",
       "      <th>iso2</th>\n",
       "      <th>iso3</th>\n",
       "      <th>code3</th>\n",
       "      <th>FIPS</th>\n",
       "      <th>Admin2</th>\n",
       "      <th>Province_State</th>\n",
       "      <th>Country_Region</th>\n",
       "      <th>Lat</th>\n",
       "      <th>Long_</th>\n",
       "      <th>Combined_Key</th>\n",
       "      <th>Date</th>\n",
       "      <th>Confirmed</th>\n",
       "      <th>Deaths</th>\n",
       "    </tr>\n",
       "  </thead>\n",
       "  <tbody>\n",
       "    <tr>\n",
       "      <td>329366</td>\n",
       "      <td>84001001</td>\n",
       "      <td>US</td>\n",
       "      <td>USA</td>\n",
       "      <td>840</td>\n",
       "      <td>1001.0</td>\n",
       "      <td>Autauga</td>\n",
       "      <td>Alabama</td>\n",
       "      <td>US</td>\n",
       "      <td>32.539527</td>\n",
       "      <td>-86.644082</td>\n",
       "      <td>Autauga, Alabama, US</td>\n",
       "      <td>5/2/20</td>\n",
       "      <td>45</td>\n",
       "      <td>3</td>\n",
       "    </tr>\n",
       "    <tr>\n",
       "      <td>329367</td>\n",
       "      <td>84001003</td>\n",
       "      <td>US</td>\n",
       "      <td>USA</td>\n",
       "      <td>840</td>\n",
       "      <td>1003.0</td>\n",
       "      <td>Baldwin</td>\n",
       "      <td>Alabama</td>\n",
       "      <td>US</td>\n",
       "      <td>30.727750</td>\n",
       "      <td>-87.722071</td>\n",
       "      <td>Baldwin, Alabama, US</td>\n",
       "      <td>5/2/20</td>\n",
       "      <td>181</td>\n",
       "      <td>4</td>\n",
       "    </tr>\n",
       "    <tr>\n",
       "      <td>329368</td>\n",
       "      <td>84001005</td>\n",
       "      <td>US</td>\n",
       "      <td>USA</td>\n",
       "      <td>840</td>\n",
       "      <td>1005.0</td>\n",
       "      <td>Barbour</td>\n",
       "      <td>Alabama</td>\n",
       "      <td>US</td>\n",
       "      <td>31.868263</td>\n",
       "      <td>-85.387129</td>\n",
       "      <td>Barbour, Alabama, US</td>\n",
       "      <td>5/2/20</td>\n",
       "      <td>43</td>\n",
       "      <td>1</td>\n",
       "    </tr>\n",
       "    <tr>\n",
       "      <td>329369</td>\n",
       "      <td>84001007</td>\n",
       "      <td>US</td>\n",
       "      <td>USA</td>\n",
       "      <td>840</td>\n",
       "      <td>1007.0</td>\n",
       "      <td>Bibb</td>\n",
       "      <td>Alabama</td>\n",
       "      <td>US</td>\n",
       "      <td>32.996421</td>\n",
       "      <td>-87.125115</td>\n",
       "      <td>Bibb, Alabama, US</td>\n",
       "      <td>5/2/20</td>\n",
       "      <td>42</td>\n",
       "      <td>0</td>\n",
       "    </tr>\n",
       "    <tr>\n",
       "      <td>329370</td>\n",
       "      <td>84001009</td>\n",
       "      <td>US</td>\n",
       "      <td>USA</td>\n",
       "      <td>840</td>\n",
       "      <td>1009.0</td>\n",
       "      <td>Blount</td>\n",
       "      <td>Alabama</td>\n",
       "      <td>US</td>\n",
       "      <td>33.982109</td>\n",
       "      <td>-86.567906</td>\n",
       "      <td>Blount, Alabama, US</td>\n",
       "      <td>5/2/20</td>\n",
       "      <td>40</td>\n",
       "      <td>0</td>\n",
       "    </tr>\n",
       "    <tr>\n",
       "      <td>...</td>\n",
       "      <td>...</td>\n",
       "      <td>...</td>\n",
       "      <td>...</td>\n",
       "      <td>...</td>\n",
       "      <td>...</td>\n",
       "      <td>...</td>\n",
       "      <td>...</td>\n",
       "      <td>...</td>\n",
       "      <td>...</td>\n",
       "      <td>...</td>\n",
       "      <td>...</td>\n",
       "      <td>...</td>\n",
       "      <td>...</td>\n",
       "      <td>...</td>\n",
       "    </tr>\n",
       "    <tr>\n",
       "      <td>427186</td>\n",
       "      <td>84070016</td>\n",
       "      <td>US</td>\n",
       "      <td>USA</td>\n",
       "      <td>840</td>\n",
       "      <td>NaN</td>\n",
       "      <td>Central Utah</td>\n",
       "      <td>Utah</td>\n",
       "      <td>US</td>\n",
       "      <td>39.372319</td>\n",
       "      <td>-111.575868</td>\n",
       "      <td>Central Utah, Utah, US</td>\n",
       "      <td>5/31/20</td>\n",
       "      <td>38</td>\n",
       "      <td>0</td>\n",
       "    </tr>\n",
       "    <tr>\n",
       "      <td>427187</td>\n",
       "      <td>84070017</td>\n",
       "      <td>US</td>\n",
       "      <td>USA</td>\n",
       "      <td>840</td>\n",
       "      <td>NaN</td>\n",
       "      <td>Southeast Utah</td>\n",
       "      <td>Utah</td>\n",
       "      <td>US</td>\n",
       "      <td>38.996171</td>\n",
       "      <td>-110.701396</td>\n",
       "      <td>Southeast Utah, Utah, US</td>\n",
       "      <td>5/31/20</td>\n",
       "      <td>24</td>\n",
       "      <td>0</td>\n",
       "    </tr>\n",
       "    <tr>\n",
       "      <td>427188</td>\n",
       "      <td>84070018</td>\n",
       "      <td>US</td>\n",
       "      <td>USA</td>\n",
       "      <td>840</td>\n",
       "      <td>NaN</td>\n",
       "      <td>Southwest Utah</td>\n",
       "      <td>Utah</td>\n",
       "      <td>US</td>\n",
       "      <td>37.854472</td>\n",
       "      <td>-111.441876</td>\n",
       "      <td>Southwest Utah, Utah, US</td>\n",
       "      <td>5/31/20</td>\n",
       "      <td>440</td>\n",
       "      <td>4</td>\n",
       "    </tr>\n",
       "    <tr>\n",
       "      <td>427189</td>\n",
       "      <td>84070019</td>\n",
       "      <td>US</td>\n",
       "      <td>USA</td>\n",
       "      <td>840</td>\n",
       "      <td>NaN</td>\n",
       "      <td>TriCounty</td>\n",
       "      <td>Utah</td>\n",
       "      <td>US</td>\n",
       "      <td>40.124915</td>\n",
       "      <td>-109.517442</td>\n",
       "      <td>TriCounty, Utah, US</td>\n",
       "      <td>5/31/20</td>\n",
       "      <td>21</td>\n",
       "      <td>0</td>\n",
       "    </tr>\n",
       "    <tr>\n",
       "      <td>427190</td>\n",
       "      <td>84070020</td>\n",
       "      <td>US</td>\n",
       "      <td>USA</td>\n",
       "      <td>840</td>\n",
       "      <td>NaN</td>\n",
       "      <td>Weber-Morgan</td>\n",
       "      <td>Utah</td>\n",
       "      <td>US</td>\n",
       "      <td>41.271160</td>\n",
       "      <td>-111.914512</td>\n",
       "      <td>Weber-Morgan, Utah, US</td>\n",
       "      <td>5/31/20</td>\n",
       "      <td>298</td>\n",
       "      <td>7</td>\n",
       "    </tr>\n",
       "  </tbody>\n",
       "</table>\n",
       "<p>78144 rows × 14 columns</p>\n",
       "</div>"
      ],
      "text/plain": [
       "             UID iso2 iso3  code3    FIPS          Admin2 Province_State  \\\n",
       "329366  84001001   US  USA    840  1001.0         Autauga        Alabama   \n",
       "329367  84001003   US  USA    840  1003.0         Baldwin        Alabama   \n",
       "329368  84001005   US  USA    840  1005.0         Barbour        Alabama   \n",
       "329369  84001007   US  USA    840  1007.0            Bibb        Alabama   \n",
       "329370  84001009   US  USA    840  1009.0          Blount        Alabama   \n",
       "...          ...  ...  ...    ...     ...             ...            ...   \n",
       "427186  84070016   US  USA    840     NaN    Central Utah           Utah   \n",
       "427187  84070017   US  USA    840     NaN  Southeast Utah           Utah   \n",
       "427188  84070018   US  USA    840     NaN  Southwest Utah           Utah   \n",
       "427189  84070019   US  USA    840     NaN       TriCounty           Utah   \n",
       "427190  84070020   US  USA    840     NaN    Weber-Morgan           Utah   \n",
       "\n",
       "       Country_Region        Lat       Long_              Combined_Key  \\\n",
       "329366             US  32.539527  -86.644082      Autauga, Alabama, US   \n",
       "329367             US  30.727750  -87.722071      Baldwin, Alabama, US   \n",
       "329368             US  31.868263  -85.387129      Barbour, Alabama, US   \n",
       "329369             US  32.996421  -87.125115         Bibb, Alabama, US   \n",
       "329370             US  33.982109  -86.567906       Blount, Alabama, US   \n",
       "...               ...        ...         ...                       ...   \n",
       "427186             US  39.372319 -111.575868    Central Utah, Utah, US   \n",
       "427187             US  38.996171 -110.701396  Southeast Utah, Utah, US   \n",
       "427188             US  37.854472 -111.441876  Southwest Utah, Utah, US   \n",
       "427189             US  40.124915 -109.517442       TriCounty, Utah, US   \n",
       "427190             US  41.271160 -111.914512    Weber-Morgan, Utah, US   \n",
       "\n",
       "           Date  Confirmed  Deaths  \n",
       "329366   5/2/20         45       3  \n",
       "329367   5/2/20        181       4  \n",
       "329368   5/2/20         43       1  \n",
       "329369   5/2/20         42       0  \n",
       "329370   5/2/20         40       0  \n",
       "...         ...        ...     ...  \n",
       "427186  5/31/20         38       0  \n",
       "427187  5/31/20         24       0  \n",
       "427188  5/31/20        440       4  \n",
       "427189  5/31/20         21       0  \n",
       "427190  5/31/20        298       7  \n",
       "\n",
       "[78144 rows x 14 columns]"
      ]
     },
     "execution_count": 67,
     "metadata": {
      "tags": []
     },
     "output_type": "execute_result"
    }
   ],
   "source": [
    "data_may"
   ]
  },
  {
   "cell_type": "code",
   "execution_count": null,
   "metadata": {
    "colab": {},
    "colab_type": "code",
    "id": "JAbsyjzFho8g"
   },
   "outputs": [],
   "source": [
    "required_cols = ['Province_State','Confirmed','Deaths']"
   ]
  },
  {
   "cell_type": "code",
   "execution_count": null,
   "metadata": {
    "colab": {},
    "colab_type": "code",
    "id": "9L-0K6dmho8k",
    "outputId": "0c1518f7-44f9-4d56-b0c5-15134c7a3085"
   },
   "outputs": [
    {
     "data": {
      "text/html": [
       "<div>\n",
       "<style scoped>\n",
       "    .dataframe tbody tr th:only-of-type {\n",
       "        vertical-align: middle;\n",
       "    }\n",
       "\n",
       "    .dataframe tbody tr th {\n",
       "        vertical-align: top;\n",
       "    }\n",
       "\n",
       "    .dataframe thead th {\n",
       "        text-align: right;\n",
       "    }\n",
       "</style>\n",
       "<table border=\"1\" class=\"dataframe\">\n",
       "  <thead>\n",
       "    <tr style=\"text-align: right;\">\n",
       "      <th></th>\n",
       "      <th>Province_State</th>\n",
       "      <th>Confirmed</th>\n",
       "      <th>Deaths</th>\n",
       "    </tr>\n",
       "  </thead>\n",
       "  <tbody>\n",
       "    <tr>\n",
       "      <td>329366</td>\n",
       "      <td>Alabama</td>\n",
       "      <td>45</td>\n",
       "      <td>3</td>\n",
       "    </tr>\n",
       "    <tr>\n",
       "      <td>329367</td>\n",
       "      <td>Alabama</td>\n",
       "      <td>181</td>\n",
       "      <td>4</td>\n",
       "    </tr>\n",
       "    <tr>\n",
       "      <td>329368</td>\n",
       "      <td>Alabama</td>\n",
       "      <td>43</td>\n",
       "      <td>1</td>\n",
       "    </tr>\n",
       "    <tr>\n",
       "      <td>329369</td>\n",
       "      <td>Alabama</td>\n",
       "      <td>42</td>\n",
       "      <td>0</td>\n",
       "    </tr>\n",
       "    <tr>\n",
       "      <td>329370</td>\n",
       "      <td>Alabama</td>\n",
       "      <td>40</td>\n",
       "      <td>0</td>\n",
       "    </tr>\n",
       "    <tr>\n",
       "      <td>...</td>\n",
       "      <td>...</td>\n",
       "      <td>...</td>\n",
       "      <td>...</td>\n",
       "    </tr>\n",
       "    <tr>\n",
       "      <td>427186</td>\n",
       "      <td>Utah</td>\n",
       "      <td>38</td>\n",
       "      <td>0</td>\n",
       "    </tr>\n",
       "    <tr>\n",
       "      <td>427187</td>\n",
       "      <td>Utah</td>\n",
       "      <td>24</td>\n",
       "      <td>0</td>\n",
       "    </tr>\n",
       "    <tr>\n",
       "      <td>427188</td>\n",
       "      <td>Utah</td>\n",
       "      <td>440</td>\n",
       "      <td>4</td>\n",
       "    </tr>\n",
       "    <tr>\n",
       "      <td>427189</td>\n",
       "      <td>Utah</td>\n",
       "      <td>21</td>\n",
       "      <td>0</td>\n",
       "    </tr>\n",
       "    <tr>\n",
       "      <td>427190</td>\n",
       "      <td>Utah</td>\n",
       "      <td>298</td>\n",
       "      <td>7</td>\n",
       "    </tr>\n",
       "  </tbody>\n",
       "</table>\n",
       "<p>78144 rows × 3 columns</p>\n",
       "</div>"
      ],
      "text/plain": [
       "       Province_State  Confirmed  Deaths\n",
       "329366        Alabama         45       3\n",
       "329367        Alabama        181       4\n",
       "329368        Alabama         43       1\n",
       "329369        Alabama         42       0\n",
       "329370        Alabama         40       0\n",
       "...               ...        ...     ...\n",
       "427186           Utah         38       0\n",
       "427187           Utah         24       0\n",
       "427188           Utah        440       4\n",
       "427189           Utah         21       0\n",
       "427190           Utah        298       7\n",
       "\n",
       "[78144 rows x 3 columns]"
      ]
     },
     "execution_count": 109,
     "metadata": {
      "tags": []
     },
     "output_type": "execute_result"
    }
   ],
   "source": [
    "# we only need the states confirmed cases and deaths in the final dataframe\n",
    "final_data = data_may[required_cols]\n",
    "final_data"
   ]
  },
  {
   "cell_type": "code",
   "execution_count": null,
   "metadata": {
    "colab": {},
    "colab_type": "code",
    "id": "1nDOh4cNho8n"
   },
   "outputs": [],
   "source": [
    "# In this cell, we calculate the sum of all the confirmed cases and confirmed deaths by grouping the data accoring to the states. The result is store in a list \n",
    "final_data\n",
    "final_data = [final_data['Province_State'].unique(), final_data.groupby('Province_State')['Confirmed'].sum(), final_data.groupby('Province_State')['Deaths'].sum()]\n",
    "final_data=np.array(final_data)"
   ]
  },
  {
   "cell_type": "code",
   "execution_count": null,
   "metadata": {
    "colab": {},
    "colab_type": "code",
    "id": "7L7ml-moho8v"
   },
   "outputs": [],
   "source": [
    "# The list is then converted into a dataframe\n",
    "final_df=pd.DataFrame(final_data.T, columns=['states','confirmed','deaths']) \n"
   ]
  },
  {
   "cell_type": "code",
   "execution_count": null,
   "metadata": {
    "colab": {},
    "colab_type": "code",
    "id": "sEBi-dVyho8z"
   },
   "outputs": [],
   "source": [
    "# The data contains data of the diamond princess and grand princess yatch that we drop here\n",
    "final_df.drop(final_df[final_df['states'] == 'Diamond Princess'].index, inplace = True) \n",
    "final_df.drop(final_df[final_df['states'] == 'Grand Princess'].index, inplace = True) \n"
   ]
  },
  {
   "cell_type": "code",
   "execution_count": null,
   "metadata": {
    "colab": {},
    "colab_type": "code",
    "id": "D3hxgzphho83"
   },
   "outputs": [],
   "source": [
    "#Importing the unemployment dataset\n",
    "unemployment = pd.read_csv('unemployment during may.csv',names = ['state','unemployment during may','historical high date','historical high rate','historical low date','historical low rate'])"
   ]
  },
  {
   "cell_type": "code",
   "execution_count": null,
   "metadata": {
    "colab": {},
    "colab_type": "code",
    "id": "ejTGvfzzho87"
   },
   "outputs": [],
   "source": [
    "req_coloumns = ['state','unemployment during may']\n",
    "final_unemployment = unemployment[req_coloumns]"
   ]
  },
  {
   "cell_type": "code",
   "execution_count": null,
   "metadata": {
    "colab": {},
    "colab_type": "code",
    "id": "X6r8qImOho8-"
   },
   "outputs": [],
   "source": [
    "#Combining the two dataframes into one along the coloumn axis\n",
    "combined_df = pd.concat([final_df, final_unemployment],axis = 1,sort=False)"
   ]
  },
  {
   "cell_type": "code",
   "execution_count": null,
   "metadata": {
    "colab": {},
    "colab_type": "code",
    "id": "TWcSVei3ho9C",
    "outputId": "350bd907-cd5c-4f5b-d2e9-defc1bc655b6"
   },
   "outputs": [
    {
     "data": {
      "text/html": [
       "<div>\n",
       "<style scoped>\n",
       "    .dataframe tbody tr th:only-of-type {\n",
       "        vertical-align: middle;\n",
       "    }\n",
       "\n",
       "    .dataframe tbody tr th {\n",
       "        vertical-align: top;\n",
       "    }\n",
       "\n",
       "    .dataframe thead th {\n",
       "        text-align: right;\n",
       "    }\n",
       "</style>\n",
       "<table border=\"1\" class=\"dataframe\">\n",
       "  <thead>\n",
       "    <tr style=\"text-align: right;\">\n",
       "      <th></th>\n",
       "      <th>states</th>\n",
       "      <th>confirmed</th>\n",
       "      <th>deaths</th>\n",
       "      <th>state</th>\n",
       "      <th>unemployment during may</th>\n",
       "    </tr>\n",
       "  </thead>\n",
       "  <tbody>\n",
       "    <tr>\n",
       "      <td>0</td>\n",
       "      <td>Alabama</td>\n",
       "      <td>311242</td>\n",
       "      <td>12076</td>\n",
       "      <td>Alabama</td>\n",
       "      <td>9.9</td>\n",
       "    </tr>\n",
       "    <tr>\n",
       "      <td>1</td>\n",
       "      <td>Alaska</td>\n",
       "      <td>9585</td>\n",
       "      <td>738</td>\n",
       "      <td>Alaska</td>\n",
       "      <td>12.6</td>\n",
       "    </tr>\n",
       "    <tr>\n",
       "      <td>2</td>\n",
       "      <td>Arizona</td>\n",
       "      <td>350304</td>\n",
       "      <td>16775</td>\n",
       "      <td>Arizona</td>\n",
       "      <td>8.9</td>\n",
       "    </tr>\n",
       "    <tr>\n",
       "      <td>3</td>\n",
       "      <td>Arkansas</td>\n",
       "      <td>125003</td>\n",
       "      <td>2559</td>\n",
       "      <td>Arkansas</td>\n",
       "      <td>9.5</td>\n",
       "    </tr>\n",
       "    <tr>\n",
       "      <td>4</td>\n",
       "      <td>California</td>\n",
       "      <td>2045012</td>\n",
       "      <td>81216</td>\n",
       "      <td>California</td>\n",
       "      <td>16.3</td>\n",
       "    </tr>\n",
       "    <tr>\n",
       "      <td>5</td>\n",
       "      <td>Colorado</td>\n",
       "      <td>537727</td>\n",
       "      <td>29208</td>\n",
       "      <td>Colorado</td>\n",
       "      <td>10.2</td>\n",
       "    </tr>\n",
       "    <tr>\n",
       "      <td>6</td>\n",
       "      <td>Connecticut</td>\n",
       "      <td>906661</td>\n",
       "      <td>82132</td>\n",
       "      <td>Connecticut</td>\n",
       "      <td>9.4</td>\n",
       "    </tr>\n",
       "    <tr>\n",
       "      <td>7</td>\n",
       "      <td>Delaware</td>\n",
       "      <td>189401</td>\n",
       "      <td>7039</td>\n",
       "      <td>Delaware</td>\n",
       "      <td>15.8</td>\n",
       "    </tr>\n",
       "    <tr>\n",
       "      <td>8</td>\n",
       "      <td>District of Columbia</td>\n",
       "      <td>1176</td>\n",
       "      <td>0</td>\n",
       "      <td>District of Columbia</td>\n",
       "      <td>8.9</td>\n",
       "    </tr>\n",
       "    <tr>\n",
       "      <td>9</td>\n",
       "      <td>Florida</td>\n",
       "      <td>176840</td>\n",
       "      <td>9405</td>\n",
       "      <td>Florida</td>\n",
       "      <td>14.5</td>\n",
       "    </tr>\n",
       "    <tr>\n",
       "      <td>10</td>\n",
       "      <td>Georgia</td>\n",
       "      <td>1131172</td>\n",
       "      <td>49002</td>\n",
       "      <td>Georgia</td>\n",
       "      <td>9.7</td>\n",
       "    </tr>\n",
       "    <tr>\n",
       "      <td>11</td>\n",
       "      <td>Hawaii</td>\n",
       "      <td>943259</td>\n",
       "      <td>39887</td>\n",
       "      <td>Hawaii</td>\n",
       "      <td>22.6</td>\n",
       "    </tr>\n",
       "    <tr>\n",
       "      <td>12</td>\n",
       "      <td>Idaho</td>\n",
       "      <td>2472</td>\n",
       "      <td>0</td>\n",
       "      <td>Idaho</td>\n",
       "      <td>8.9</td>\n",
       "    </tr>\n",
       "    <tr>\n",
       "      <td>13</td>\n",
       "      <td>Illinois</td>\n",
       "      <td>15361</td>\n",
       "      <td>407</td>\n",
       "      <td>Illinois</td>\n",
       "      <td>15.2</td>\n",
       "    </tr>\n",
       "    <tr>\n",
       "      <td>14</td>\n",
       "      <td>Indiana</td>\n",
       "      <td>59609</td>\n",
       "      <td>2426</td>\n",
       "      <td>Indiana</td>\n",
       "      <td>12.3</td>\n",
       "    </tr>\n",
       "    <tr>\n",
       "      <td>15</td>\n",
       "      <td>Iowa</td>\n",
       "      <td>2342569</td>\n",
       "      <td>103870</td>\n",
       "      <td>Iowa</td>\n",
       "      <td>10.0</td>\n",
       "    </tr>\n",
       "    <tr>\n",
       "      <td>16</td>\n",
       "      <td>Kansas</td>\n",
       "      <td>686845</td>\n",
       "      <td>39761</td>\n",
       "      <td>Kansas</td>\n",
       "      <td>10.0</td>\n",
       "    </tr>\n",
       "    <tr>\n",
       "      <td>17</td>\n",
       "      <td>Kentucky</td>\n",
       "      <td>367704</td>\n",
       "      <td>9248</td>\n",
       "      <td>Kentucky</td>\n",
       "      <td>11.0</td>\n",
       "    </tr>\n",
       "    <tr>\n",
       "      <td>18</td>\n",
       "      <td>Louisiana</td>\n",
       "      <td>197077</td>\n",
       "      <td>7953</td>\n",
       "      <td>Louisiana</td>\n",
       "      <td>13.3</td>\n",
       "    </tr>\n",
       "    <tr>\n",
       "      <td>19</td>\n",
       "      <td>Maine</td>\n",
       "      <td>189558</td>\n",
       "      <td>8607</td>\n",
       "      <td>Maine</td>\n",
       "      <td>9.3</td>\n",
       "    </tr>\n",
       "    <tr>\n",
       "      <td>20</td>\n",
       "      <td>Maryland</td>\n",
       "      <td>846525</td>\n",
       "      <td>58472</td>\n",
       "      <td>Maryland</td>\n",
       "      <td>9.9</td>\n",
       "    </tr>\n",
       "    <tr>\n",
       "      <td>21</td>\n",
       "      <td>Massachusetts</td>\n",
       "      <td>43239</td>\n",
       "      <td>1756</td>\n",
       "      <td>Massachusetts</td>\n",
       "      <td>16.3</td>\n",
       "    </tr>\n",
       "    <tr>\n",
       "      <td>22</td>\n",
       "      <td>Michigan</td>\n",
       "      <td>986575</td>\n",
       "      <td>49704</td>\n",
       "      <td>Michigan</td>\n",
       "      <td>21.2</td>\n",
       "    </tr>\n",
       "    <tr>\n",
       "      <td>23</td>\n",
       "      <td>Minnesota</td>\n",
       "      <td>2143673</td>\n",
       "      <td>140397</td>\n",
       "      <td>Minnesota</td>\n",
       "      <td>9.9</td>\n",
       "    </tr>\n",
       "    <tr>\n",
       "      <td>24</td>\n",
       "      <td>Mississippi</td>\n",
       "      <td>1344211</td>\n",
       "      <td>126684</td>\n",
       "      <td>Mississippi</td>\n",
       "      <td>10.6</td>\n",
       "    </tr>\n",
       "    <tr>\n",
       "      <td>25</td>\n",
       "      <td>Missouri</td>\n",
       "      <td>409639</td>\n",
       "      <td>18470</td>\n",
       "      <td>Missouri</td>\n",
       "      <td>10.1</td>\n",
       "    </tr>\n",
       "    <tr>\n",
       "      <td>26</td>\n",
       "      <td>Montana</td>\n",
       "      <td>285232</td>\n",
       "      <td>13279</td>\n",
       "      <td>Montana</td>\n",
       "      <td>9.0</td>\n",
       "    </tr>\n",
       "    <tr>\n",
       "      <td>27</td>\n",
       "      <td>Nebraska</td>\n",
       "      <td>276215</td>\n",
       "      <td>16702</td>\n",
       "      <td>Nebraska</td>\n",
       "      <td>5.2</td>\n",
       "    </tr>\n",
       "    <tr>\n",
       "      <td>28</td>\n",
       "      <td>Nevada</td>\n",
       "      <td>11386</td>\n",
       "      <td>390</td>\n",
       "      <td>Nevada</td>\n",
       "      <td>25.3</td>\n",
       "    </tr>\n",
       "    <tr>\n",
       "      <td>29</td>\n",
       "      <td>New Hampshire</td>\n",
       "      <td>256922</td>\n",
       "      <td>2442</td>\n",
       "      <td>New Hampshire</td>\n",
       "      <td>14.5</td>\n",
       "    </tr>\n",
       "    <tr>\n",
       "      <td>30</td>\n",
       "      <td>New Jersey</td>\n",
       "      <td>172730</td>\n",
       "      <td>8537</td>\n",
       "      <td>New Jersey</td>\n",
       "      <td>15.2</td>\n",
       "    </tr>\n",
       "    <tr>\n",
       "      <td>31</td>\n",
       "      <td>New Mexico</td>\n",
       "      <td>89869</td>\n",
       "      <td>4124</td>\n",
       "      <td>New Mexico</td>\n",
       "      <td>9.2</td>\n",
       "    </tr>\n",
       "    <tr>\n",
       "      <td>32</td>\n",
       "      <td>New York</td>\n",
       "      <td>3553576</td>\n",
       "      <td>250038</td>\n",
       "      <td>New York</td>\n",
       "      <td>14.5</td>\n",
       "    </tr>\n",
       "    <tr>\n",
       "      <td>33</td>\n",
       "      <td>North Carolina</td>\n",
       "      <td>147888</td>\n",
       "      <td>7411</td>\n",
       "      <td>North Carolina</td>\n",
       "      <td>12.9</td>\n",
       "    </tr>\n",
       "    <tr>\n",
       "      <td>34</td>\n",
       "      <td>North Dakota</td>\n",
       "      <td>8429856</td>\n",
       "      <td>695527</td>\n",
       "      <td>North Dakota</td>\n",
       "      <td>9.1</td>\n",
       "    </tr>\n",
       "    <tr>\n",
       "      <td>35</td>\n",
       "      <td>Ohio</td>\n",
       "      <td>487060</td>\n",
       "      <td>17173</td>\n",
       "      <td>Ohio</td>\n",
       "      <td>13.7</td>\n",
       "    </tr>\n",
       "    <tr>\n",
       "      <td>36</td>\n",
       "      <td>Oklahoma</td>\n",
       "      <td>48591</td>\n",
       "      <td>962</td>\n",
       "      <td>Oklahoma</td>\n",
       "      <td>12.6</td>\n",
       "    </tr>\n",
       "    <tr>\n",
       "      <td>37</td>\n",
       "      <td>Oregon</td>\n",
       "      <td>696857</td>\n",
       "      <td>41386</td>\n",
       "      <td>Oregon</td>\n",
       "      <td>14.2</td>\n",
       "    </tr>\n",
       "    <tr>\n",
       "      <td>38</td>\n",
       "      <td>Pennsylvania</td>\n",
       "      <td>131061</td>\n",
       "      <td>7261</td>\n",
       "      <td>Pennsylvania</td>\n",
       "      <td>13.1</td>\n",
       "    </tr>\n",
       "    <tr>\n",
       "      <td>39</td>\n",
       "      <td>Rhode Island</td>\n",
       "      <td>88167</td>\n",
       "      <td>3348</td>\n",
       "      <td>Rhode Island</td>\n",
       "      <td>16.3</td>\n",
       "    </tr>\n",
       "    <tr>\n",
       "      <td>40</td>\n",
       "      <td>South Carolina</td>\n",
       "      <td>1607085</td>\n",
       "      <td>110289</td>\n",
       "      <td>South Carolina</td>\n",
       "      <td>12.5</td>\n",
       "    </tr>\n",
       "    <tr>\n",
       "      <td>41</td>\n",
       "      <td>South Dakota</td>\n",
       "      <td>310212</td>\n",
       "      <td>0</td>\n",
       "      <td>South Dakota</td>\n",
       "      <td>9.4</td>\n",
       "    </tr>\n",
       "    <tr>\n",
       "      <td>42</td>\n",
       "      <td>Tennessee</td>\n",
       "      <td>221164</td>\n",
       "      <td>9630</td>\n",
       "      <td>Tennessee</td>\n",
       "      <td>11.3</td>\n",
       "    </tr>\n",
       "    <tr>\n",
       "      <td>43</td>\n",
       "      <td>Texas</td>\n",
       "      <td>98780</td>\n",
       "      <td>13999</td>\n",
       "      <td>Texas</td>\n",
       "      <td>13.0</td>\n",
       "    </tr>\n",
       "    <tr>\n",
       "      <td>44</td>\n",
       "      <td>Utah</td>\n",
       "      <td>441804</td>\n",
       "      <td>7203</td>\n",
       "      <td>Utah</td>\n",
       "      <td>8.5</td>\n",
       "    </tr>\n",
       "    <tr>\n",
       "      <td>45</td>\n",
       "      <td>Vermont</td>\n",
       "      <td>1202664</td>\n",
       "      <td>32773</td>\n",
       "      <td>Vermont</td>\n",
       "      <td>12.7</td>\n",
       "    </tr>\n",
       "    <tr>\n",
       "      <td>46</td>\n",
       "      <td>Virginia</td>\n",
       "      <td>182350</td>\n",
       "      <td>2173</td>\n",
       "      <td>Virginia</td>\n",
       "      <td>9.4</td>\n",
       "    </tr>\n",
       "    <tr>\n",
       "      <td>47</td>\n",
       "      <td>Washington</td>\n",
       "      <td>22678</td>\n",
       "      <td>1289</td>\n",
       "      <td>Washington</td>\n",
       "      <td>15.1</td>\n",
       "    </tr>\n",
       "    <tr>\n",
       "      <td>48</td>\n",
       "      <td>West Virginia</td>\n",
       "      <td>781406</td>\n",
       "      <td>25597</td>\n",
       "      <td>West Virginia</td>\n",
       "      <td>12.9</td>\n",
       "    </tr>\n",
       "    <tr>\n",
       "      <td>49</td>\n",
       "      <td>Wisconsin</td>\n",
       "      <td>450894</td>\n",
       "      <td>24421</td>\n",
       "      <td>Wisconsin</td>\n",
       "      <td>12.0</td>\n",
       "    </tr>\n",
       "    <tr>\n",
       "      <td>50</td>\n",
       "      <td>Wyoming</td>\n",
       "      <td>38383</td>\n",
       "      <td>1582</td>\n",
       "      <td>Wyoming</td>\n",
       "      <td>8.8</td>\n",
       "    </tr>\n",
       "  </tbody>\n",
       "</table>\n",
       "</div>"
      ],
      "text/plain": [
       "                  states confirmed  deaths                 state  \\\n",
       "0                Alabama    311242   12076               Alabama   \n",
       "1                 Alaska      9585     738                Alaska   \n",
       "2                Arizona    350304   16775               Arizona   \n",
       "3               Arkansas    125003    2559              Arkansas   \n",
       "4             California   2045012   81216            California   \n",
       "5               Colorado    537727   29208              Colorado   \n",
       "6            Connecticut    906661   82132           Connecticut   \n",
       "7               Delaware    189401    7039              Delaware   \n",
       "8   District of Columbia      1176       0  District of Columbia   \n",
       "9                Florida    176840    9405               Florida   \n",
       "10               Georgia   1131172   49002               Georgia   \n",
       "11                Hawaii    943259   39887                Hawaii   \n",
       "12                 Idaho      2472       0                 Idaho   \n",
       "13              Illinois     15361     407              Illinois   \n",
       "14               Indiana     59609    2426               Indiana   \n",
       "15                  Iowa   2342569  103870                  Iowa   \n",
       "16                Kansas    686845   39761                Kansas   \n",
       "17              Kentucky    367704    9248              Kentucky   \n",
       "18             Louisiana    197077    7953             Louisiana   \n",
       "19                 Maine    189558    8607                 Maine   \n",
       "20              Maryland    846525   58472              Maryland   \n",
       "21         Massachusetts     43239    1756         Massachusetts   \n",
       "22              Michigan    986575   49704              Michigan   \n",
       "23             Minnesota   2143673  140397             Minnesota   \n",
       "24           Mississippi   1344211  126684           Mississippi   \n",
       "25              Missouri    409639   18470              Missouri   \n",
       "26               Montana    285232   13279               Montana   \n",
       "27              Nebraska    276215   16702              Nebraska   \n",
       "28                Nevada     11386     390                Nevada   \n",
       "29         New Hampshire    256922    2442         New Hampshire   \n",
       "30            New Jersey    172730    8537            New Jersey   \n",
       "31            New Mexico     89869    4124            New Mexico   \n",
       "32              New York   3553576  250038              New York   \n",
       "33        North Carolina    147888    7411        North Carolina   \n",
       "34          North Dakota   8429856  695527          North Dakota   \n",
       "35                  Ohio    487060   17173                  Ohio   \n",
       "36              Oklahoma     48591     962              Oklahoma   \n",
       "37                Oregon    696857   41386                Oregon   \n",
       "38          Pennsylvania    131061    7261          Pennsylvania   \n",
       "39          Rhode Island     88167    3348          Rhode Island   \n",
       "40        South Carolina   1607085  110289        South Carolina   \n",
       "41          South Dakota    310212       0          South Dakota   \n",
       "42             Tennessee    221164    9630             Tennessee   \n",
       "43                 Texas     98780   13999                 Texas   \n",
       "44                  Utah    441804    7203                  Utah   \n",
       "45               Vermont   1202664   32773               Vermont   \n",
       "46              Virginia    182350    2173              Virginia   \n",
       "47            Washington     22678    1289            Washington   \n",
       "48         West Virginia    781406   25597         West Virginia   \n",
       "49             Wisconsin    450894   24421             Wisconsin   \n",
       "50               Wyoming     38383    1582               Wyoming   \n",
       "\n",
       "    unemployment during may  \n",
       "0                       9.9  \n",
       "1                      12.6  \n",
       "2                       8.9  \n",
       "3                       9.5  \n",
       "4                      16.3  \n",
       "5                      10.2  \n",
       "6                       9.4  \n",
       "7                      15.8  \n",
       "8                       8.9  \n",
       "9                      14.5  \n",
       "10                      9.7  \n",
       "11                     22.6  \n",
       "12                      8.9  \n",
       "13                     15.2  \n",
       "14                     12.3  \n",
       "15                     10.0  \n",
       "16                     10.0  \n",
       "17                     11.0  \n",
       "18                     13.3  \n",
       "19                      9.3  \n",
       "20                      9.9  \n",
       "21                     16.3  \n",
       "22                     21.2  \n",
       "23                      9.9  \n",
       "24                     10.6  \n",
       "25                     10.1  \n",
       "26                      9.0  \n",
       "27                      5.2  \n",
       "28                     25.3  \n",
       "29                     14.5  \n",
       "30                     15.2  \n",
       "31                      9.2  \n",
       "32                     14.5  \n",
       "33                     12.9  \n",
       "34                      9.1  \n",
       "35                     13.7  \n",
       "36                     12.6  \n",
       "37                     14.2  \n",
       "38                     13.1  \n",
       "39                     16.3  \n",
       "40                     12.5  \n",
       "41                      9.4  \n",
       "42                     11.3  \n",
       "43                     13.0  \n",
       "44                      8.5  \n",
       "45                     12.7  \n",
       "46                      9.4  \n",
       "47                     15.1  \n",
       "48                     12.9  \n",
       "49                     12.0  \n",
       "50                      8.8  "
      ]
     },
     "execution_count": 117,
     "metadata": {
      "tags": []
     },
     "output_type": "execute_result"
    }
   ],
   "source": [
    "combined_df"
   ]
  },
  {
   "cell_type": "code",
   "execution_count": null,
   "metadata": {
    "colab": {},
    "colab_type": "code",
    "id": "1sH5Dd_kho9J"
   },
   "outputs": [],
   "source": [
    "# we calculate the correlation between confirmed cases and unemployment rate\n",
    "confirmed_cases = combined_df['confirmed']\n",
    "unemployment_rate = combined_df['unemployment during may']"
   ]
  },
  {
   "cell_type": "markdown",
   "metadata": {
    "colab_type": "text",
    "id": "PW-fRw4lqjp2"
   },
   "source": [
    "# We use pearson coefficient for calculating the correlation. The formulae of pearson coefficient is\n",
    "![alt text](https://i0.wp.com/www.questionpro.com/blog/wp-content/uploads/2020/04/pearson-formula.png?w=437&ssl=1)\n"
   ]
  },
  {
   "cell_type": "code",
   "execution_count": null,
   "metadata": {
    "colab": {},
    "colab_type": "code",
    "id": "hVEPK8RJho9O",
    "outputId": "70624d93-862b-4d8c-c4be-2709e5173b39"
   },
   "outputs": [
    {
     "name": "stdout",
     "output_type": "stream",
     "text": [
      "-0.07980947892675593\n"
     ]
    }
   ],
   "source": [
    "from numpy import cov\n",
    "from scipy import stats\n",
    "correlation, p_value = stats.pearsonr(confirmed_cases, unemployment_rate)\n",
    "print(correlation)"
   ]
  },
  {
   "cell_type": "code",
   "execution_count": null,
   "metadata": {
    "colab": {},
    "colab_type": "code",
    "id": "T-E3ONp1ho9R"
   },
   "outputs": [],
   "source": [
    "confirmed_deaths = combined_df['deaths']\n",
    "unemployment_rate = combined_df['unemployment during may']"
   ]
  },
  {
   "cell_type": "code",
   "execution_count": null,
   "metadata": {
    "colab": {},
    "colab_type": "code",
    "id": "6AwlIrM_ho9X",
    "outputId": "2398ce1a-729c-446c-e375-8431a73361df"
   },
   "outputs": [
    {
     "name": "stdout",
     "output_type": "stream",
     "text": [
      "-0.10477711413863369\n"
     ]
    }
   ],
   "source": [
    "\n",
    "correlation, p_value = stats.pearsonr(confirmed_deaths, unemployment_rate)\n",
    "print(correlation)"
   ]
  },
  {
   "cell_type": "markdown",
   "metadata": {
    "colab_type": "text",
    "id": "WrW-V6fqq8vH"
   },
   "source": [
    "As we can see the the number of cases in a state and the unemployment rate is not correlated. Looking at the data it isnt a surprise,  New york has a confirmed cases of 3553576 but the unemployment rate is only 14.5 . But for the state of nevada, the number of confirmed cases is only 11386 but the unemployment rate is 25.3% . This doesnt mean that the unemployment rate is not at all related to Covid - 19. There may be other reasons like the fall in economy of the state, the lockdown duration in that state, the shutting of business etc. Also I guess,the rate is calculated using the population of the state so it would be better if we calculate the correlation between the number of people unemployed and the confirmed cases but I wasnt able to get that data in the US gov website."
   ]
  },
  {
   "cell_type": "markdown",
   "metadata": {
    "colab": {},
    "colab_type": "code",
    "id": "UeYLd-ZYho9b"
   },
   "source": [
    "References:\n",
    "https://www.bls.gov/web/laus/laumstcm.htm\n",
    "https://www.kaggle.com/imdevskp/corona-virus-report?select=country_wise_latest.csv\n",
    "https://scikit-learn.org/stable/index.html\n",
    "https://stackoverflow.com/questions/45264141/convert-array-into-dataframe-in-python\n",
    "https://pandas.pydata.org/pandas-docs/stable/reference/api/pandas.read_csv.html\n",
    "https://towardsdatascience.com/pearson-coefficient-of-correlation-explained-369991d93404"
   ]
  }
 ],
 "metadata": {
  "colab": {
   "name": "Project1.ipynb",
   "provenance": []
  },
  "kernelspec": {
   "display_name": "Python 3",
   "language": "python",
   "name": "python3"
  },
  "language_info": {
   "codemirror_mode": {
    "name": "ipython",
    "version": 3
   },
   "file_extension": ".py",
   "mimetype": "text/x-python",
   "name": "python",
   "nbconvert_exporter": "python",
   "pygments_lexer": "ipython3",
   "version": "3.7.4"
  }
 },
 "nbformat": 4,
 "nbformat_minor": 4
}
